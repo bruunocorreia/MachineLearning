{
 "cells": [
  {
   "cell_type": "markdown",
   "metadata": {},
   "source": [
    "# Challenge: Create a model that predicts which passengers survived the Titanic"
   ]
  },
  {
   "cell_type": "markdown",
   "metadata": {},
   "source": [
    "Steps:\n",
    "* Import Data\n",
    "* Exploratory Data Analysis\n",
    "* Data Preparation + Feature Enginnering\n",
    "* Croos Validation - Kfold\n",
    "* Test some Machine Learning models\n",
    "* Choose the best ML and tuning hiper-parameters using Gridsearch\n",
    "* Plotting the feature importance\n",
    "* Make submission"
   ]
  },
  {
   "cell_type": "markdown",
   "metadata": {},
   "source": [
    "### Import Data"
   ]
  },
  {
   "cell_type": "code",
   "execution_count": 1,
   "metadata": {},
   "outputs": [],
   "source": [
    "import pandas as pd\n",
    "import numpy as np\n",
    "import matplotlib.pyplot as plt\n",
    "import seaborn as sns\n",
    "import xgboost as xgb\n",
    "import lightgbm as lgb \n",
    "import re\n",
    "import shap\n",
    "from sklearn import preprocessing\n",
    "from category_encoders.one_hot import OneHotEncoder\n",
    "from sklearn.preprocessing import StandardScaler,LabelEncoder\n",
    "from sklearn.model_selection import cross_val_score, KFold,GridSearchCV\n",
    "from sklearn.feature_selection import SelectKBest,SelectFromModel\n",
    "from sklearn.metrics import accuracy_score\n",
    "from sklearn.pipeline import Pipeline,make_pipeline\n",
    "from sklearn.ensemble import RandomForestClassifier,VotingClassifier,BaggingClassifier\n",
    "from sklearn.tree import DecisionTreeClassifier\n",
    "from sklearn import linear_model\n",
    "from sklearn.linear_model import LogisticRegression,Perceptron,SGDClassifier\n",
    "from sklearn.svm import SVC\n",
    "from sklearn.neighbors import KNeighborsClassifier\n",
    "from sklearn.naive_bayes import GaussianNB"
   ]
  },
  {
   "cell_type": "code",
   "execution_count": 2,
   "metadata": {},
   "outputs": [
    {
     "data": {
      "text/html": [
       "<div>\n",
       "<style scoped>\n",
       "    .dataframe tbody tr th:only-of-type {\n",
       "        vertical-align: middle;\n",
       "    }\n",
       "\n",
       "    .dataframe tbody tr th {\n",
       "        vertical-align: top;\n",
       "    }\n",
       "\n",
       "    .dataframe thead th {\n",
       "        text-align: right;\n",
       "    }\n",
       "</style>\n",
       "<table border=\"1\" class=\"dataframe\">\n",
       "  <thead>\n",
       "    <tr style=\"text-align: right;\">\n",
       "      <th></th>\n",
       "      <th>PassengerId</th>\n",
       "      <th>Pclass</th>\n",
       "      <th>Name</th>\n",
       "      <th>Sex</th>\n",
       "      <th>Age</th>\n",
       "      <th>SibSp</th>\n",
       "      <th>Parch</th>\n",
       "      <th>Ticket</th>\n",
       "      <th>Fare</th>\n",
       "      <th>Cabin</th>\n",
       "      <th>Embarked</th>\n",
       "      <th>Survived</th>\n",
       "    </tr>\n",
       "  </thead>\n",
       "  <tbody>\n",
       "    <tr>\n",
       "      <th>0</th>\n",
       "      <td>892</td>\n",
       "      <td>3</td>\n",
       "      <td>Kelly, Mr. James</td>\n",
       "      <td>male</td>\n",
       "      <td>34.5</td>\n",
       "      <td>0</td>\n",
       "      <td>0</td>\n",
       "      <td>330911</td>\n",
       "      <td>7.8292</td>\n",
       "      <td>NaN</td>\n",
       "      <td>Q</td>\n",
       "      <td>NaN</td>\n",
       "    </tr>\n",
       "    <tr>\n",
       "      <th>1</th>\n",
       "      <td>893</td>\n",
       "      <td>3</td>\n",
       "      <td>Wilkes, Mrs. James (Ellen Needs)</td>\n",
       "      <td>female</td>\n",
       "      <td>47.0</td>\n",
       "      <td>1</td>\n",
       "      <td>0</td>\n",
       "      <td>363272</td>\n",
       "      <td>7.0000</td>\n",
       "      <td>NaN</td>\n",
       "      <td>S</td>\n",
       "      <td>NaN</td>\n",
       "    </tr>\n",
       "    <tr>\n",
       "      <th>2</th>\n",
       "      <td>894</td>\n",
       "      <td>2</td>\n",
       "      <td>Myles, Mr. Thomas Francis</td>\n",
       "      <td>male</td>\n",
       "      <td>62.0</td>\n",
       "      <td>0</td>\n",
       "      <td>0</td>\n",
       "      <td>240276</td>\n",
       "      <td>9.6875</td>\n",
       "      <td>NaN</td>\n",
       "      <td>Q</td>\n",
       "      <td>NaN</td>\n",
       "    </tr>\n",
       "    <tr>\n",
       "      <th>3</th>\n",
       "      <td>895</td>\n",
       "      <td>3</td>\n",
       "      <td>Wirz, Mr. Albert</td>\n",
       "      <td>male</td>\n",
       "      <td>27.0</td>\n",
       "      <td>0</td>\n",
       "      <td>0</td>\n",
       "      <td>315154</td>\n",
       "      <td>8.6625</td>\n",
       "      <td>NaN</td>\n",
       "      <td>S</td>\n",
       "      <td>NaN</td>\n",
       "    </tr>\n",
       "    <tr>\n",
       "      <th>4</th>\n",
       "      <td>896</td>\n",
       "      <td>3</td>\n",
       "      <td>Hirvonen, Mrs. Alexander (Helga E Lindqvist)</td>\n",
       "      <td>female</td>\n",
       "      <td>22.0</td>\n",
       "      <td>1</td>\n",
       "      <td>1</td>\n",
       "      <td>3101298</td>\n",
       "      <td>12.2875</td>\n",
       "      <td>NaN</td>\n",
       "      <td>S</td>\n",
       "      <td>NaN</td>\n",
       "    </tr>\n",
       "  </tbody>\n",
       "</table>\n",
       "</div>"
      ],
      "text/plain": [
       "   PassengerId  Pclass                                          Name     Sex  \\\n",
       "0          892       3                              Kelly, Mr. James    male   \n",
       "1          893       3              Wilkes, Mrs. James (Ellen Needs)  female   \n",
       "2          894       2                     Myles, Mr. Thomas Francis    male   \n",
       "3          895       3                              Wirz, Mr. Albert    male   \n",
       "4          896       3  Hirvonen, Mrs. Alexander (Helga E Lindqvist)  female   \n",
       "\n",
       "    Age  SibSp  Parch   Ticket     Fare Cabin Embarked  Survived  \n",
       "0  34.5      0      0   330911   7.8292   NaN        Q       NaN  \n",
       "1  47.0      1      0   363272   7.0000   NaN        S       NaN  \n",
       "2  62.0      0      0   240276   9.6875   NaN        Q       NaN  \n",
       "3  27.0      0      0   315154   8.6625   NaN        S       NaN  \n",
       "4  22.0      1      1  3101298  12.2875   NaN        S       NaN  "
      ]
     },
     "execution_count": 2,
     "metadata": {},
     "output_type": "execute_result"
    }
   ],
   "source": [
    "#Read DataFrame\n",
    "test = pd.read_csv(\"../input/titanic/test.csv\")\n",
    "test['Survived'] = np.nan\n",
    "\n",
    "train = pd.read_csv(\"../input/titanic/train.csv\")\n",
    "\n",
    "df = pd.concat([test,train],sort=False)\n",
    "df.head()"
   ]
  },
  {
   "cell_type": "markdown",
   "metadata": {},
   "source": [
    "### Exploratory Data Analysis"
   ]
  },
  {
   "cell_type": "markdown",
   "metadata": {},
   "source": [
    "### Plotting target distribution"
   ]
  },
  {
   "cell_type": "code",
   "execution_count": 3,
   "metadata": {},
   "outputs": [
    {
     "data": {
      "text/plain": [
       "<matplotlib.axes._subplots.AxesSubplot at 0x7f53513e8198>"
      ]
     },
     "execution_count": 3,
     "metadata": {},
     "output_type": "execute_result"
    },
    {
     "data": {
      "image/png": "[encoded data removed]",
      "text/plain": [
       "<Figure size 432x288 with 1 Axes>"
      ]
     },
     "metadata": {
      "needs_background": "light"
     },
     "output_type": "display_data"
    }
   ],
   "source": [
    "sns.countplot(x=df['Survived'], alpha=0.7, data=df)"
   ]
  },
  {
   "cell_type": "markdown",
   "metadata": {},
   "source": [
    "### Plotting numeric features"
   ]
  },
  {
   "cell_type": "code",
   "execution_count": 4,
   "metadata": {
    "_kg_hide-input": true
   },
   "outputs": [
    {
     "data": {
      "text/plain": [
       "Text(0.5, 0, 'Age')"
      ]
     },
     "execution_count": 4,
     "metadata": {},
     "output_type": "execute_result"
    },
    {
     "data": {
      "image/png": "[encoded data removed]",
      "text/plain": [
       "<Figure size 432x288 with 1 Axes>"
      ]
     },
     "metadata": {
      "needs_background": "light"
     },
     "output_type": "display_data"
    }
   ],
   "source": [
    "numerics = ['float','int']\n",
    "df2 = df[df['Survived']==0].select_dtypes(include=numerics)\n",
    "df3 = df[df['Survived']==1].select_dtypes(include=numerics)\n",
    "sns.kdeplot(df3['Age'].values, bw=0.5,label='Survived==Yes')\n",
    "sns.kdeplot(df2['Age'].values, bw=0.5,label='Survived==NO')\n",
    "plt.xlabel('Age', fontsize=10)"
   ]
  },
  {
   "cell_type": "code",
   "execution_count": 5,
   "metadata": {
    "_kg_hide-input": true
   },
   "outputs": [
    {
     "data": {
      "text/plain": [
       "Text(0.5, 0, 'Fare')"
      ]
     },
     "execution_count": 5,
     "metadata": {},
     "output_type": "execute_result"
    },
    {
     "data": {
      "image/png": "[encoded data removed]",
      "text/plain": [
       "<Figure size 432x288 with 1 Axes>"
      ]
     },
     "metadata": {
      "needs_background": "light"
     },
     "output_type": "display_data"
    }
   ],
   "source": [
    "sns.kdeplot(df3['Fare'].values, bw=0.5,label='Survived==Yes')\n",
    "sns.kdeplot(df2['Fare'].values, bw=0.5,label='Survived==NO')\n",
    "plt.xlabel('Fare', fontsize=10)"
   ]
  },
  {
   "cell_type": "markdown",
   "metadata": {},
   "source": [
    "### Plotting categorics features"
   ]
  },
  {
   "cell_type": "code",
   "execution_count": 6,
   "metadata": {
    "_kg_hide-input": true
   },
   "outputs": [
    {
     "data": {
      "image/png": "[encoded data removed]",
      "text/plain": [
       "<Figure size 1584x648 with 3 Axes>"
      ]
     },
     "metadata": {
      "needs_background": "light"
     },
     "output_type": "display_data"
    }
   ],
   "source": [
    "categorics = ['object']\n",
    "c1 = df[df['Survived']==0].select_dtypes(include=categorics)\n",
    "c1['Survived'] = 'No'\n",
    "c2 = df[df['Survived']==1].select_dtypes(include=categorics)\n",
    "c2['Survived'] = 'Yes'\n",
    "c3 = pd.concat([c1,c2])\n",
    "c3 = c3.drop(['Name','Cabin','Ticket'],axis=1)\n",
    "\n",
    "fig, axes = plt.subplots(round(len(c3.columns) / 3), 3, figsize=(22, 9))\n",
    "\n",
    "for i, ax in enumerate(fig.axes):\n",
    "    if i < len(c3.columns):\n",
    "        ax.set_xticklabels(ax.xaxis.get_majorticklabels(), rotation=35)\n",
    "        sns.countplot(x=c3.columns[i], alpha=0.7, data=c3, ax=ax,hue=\"Survived\")\n",
    "\n",
    "fig.tight_layout()"
   ]
  },
  {
   "cell_type": "markdown",
   "metadata": {},
   "source": [
    "### Data Preparation + Feature Enginnering"
   ]
  },
  {
   "cell_type": "code",
   "execution_count": 7,
   "metadata": {},
   "outputs": [
    {
     "name": "stdout",
     "output_type": "stream",
     "text": [
      "Age            1.000000\n",
      "Fare           0.178740\n",
      "PassengerId    0.028814\n",
      "Survived      -0.077221\n",
      "Parch         -0.150917\n",
      "SibSp         -0.243699\n",
      "Pclass        -0.408106\n",
      "Name: Age, dtype: float64\n"
     ]
    }
   ],
   "source": [
    "#Input median in null values\n",
    "#Median age of Pclass, because its high correlation (-0,40)\n",
    "print(df.corr()['Age'].sort_values(ascending=False))\n",
    "df['Age'] = df.groupby(\"Pclass\")['Age'].transform(lambda x: x.fillna(x.median()))"
   ]
  },
  {
   "cell_type": "code",
   "execution_count": 8,
   "metadata": {},
   "outputs": [
    {
     "name": "stdout",
     "output_type": "stream",
     "text": [
      "Fare           1.000000\n",
      "Survived       0.257307\n",
      "Parch          0.221539\n",
      "Age            0.202512\n",
      "SibSp          0.160238\n",
      "PassengerId    0.031428\n",
      "Pclass        -0.558629\n",
      "Name: Fare, dtype: float64\n"
     ]
    }
   ],
   "source": [
    "#Input median in null values\n",
    "#Median fare of Pclass, because its high correlation (-0,55)\n",
    "print(df.corr()['Fare'].sort_values(ascending=False))\n",
    "df['Fare'] = df.groupby(\"Pclass\")['Fare'].transform(lambda x: x.fillna(x.median()))"
   ]
  },
  {
   "cell_type": "code",
   "execution_count": 9,
   "metadata": {},
   "outputs": [
    {
     "data": {
      "text/html": [
       "<div>\n",
       "<style scoped>\n",
       "    .dataframe tbody tr th:only-of-type {\n",
       "        vertical-align: middle;\n",
       "    }\n",
       "\n",
       "    .dataframe tbody tr th {\n",
       "        vertical-align: top;\n",
       "    }\n",
       "\n",
       "    .dataframe thead th {\n",
       "        text-align: right;\n",
       "    }\n",
       "</style>\n",
       "<table border=\"1\" class=\"dataframe\">\n",
       "  <thead>\n",
       "    <tr style=\"text-align: right;\">\n",
       "      <th></th>\n",
       "      <th>PassengerId</th>\n",
       "      <th>Pclass</th>\n",
       "      <th>Sex</th>\n",
       "      <th>Age</th>\n",
       "      <th>SibSp</th>\n",
       "      <th>Parch</th>\n",
       "      <th>Ticket</th>\n",
       "      <th>Fare</th>\n",
       "      <th>Cabin</th>\n",
       "      <th>Embarked</th>\n",
       "      <th>Survived</th>\n",
       "      <th>Fsize</th>\n",
       "      <th>IsAlone</th>\n",
       "      <th>Age_Class</th>\n",
       "      <th>Age_cut</th>\n",
       "      <th>Title</th>\n",
       "      <th>Fare_Per_Person</th>\n",
       "      <th>Fare_cut</th>\n",
       "      <th>Cabin_len</th>\n",
       "    </tr>\n",
       "  </thead>\n",
       "  <tbody>\n",
       "    <tr>\n",
       "      <th>0</th>\n",
       "      <td>892</td>\n",
       "      <td>3</td>\n",
       "      <td>male</td>\n",
       "      <td>34.5</td>\n",
       "      <td>0</td>\n",
       "      <td>0</td>\n",
       "      <td>6</td>\n",
       "      <td>7.8292</td>\n",
       "      <td>M</td>\n",
       "      <td>Q</td>\n",
       "      <td>NaN</td>\n",
       "      <td>1</td>\n",
       "      <td>1</td>\n",
       "      <td>103.5</td>\n",
       "      <td>(29.0, 39.0]</td>\n",
       "      <td>Mr</td>\n",
       "      <td>3</td>\n",
       "      <td>(-0.001, 7.854]</td>\n",
       "      <td>3</td>\n",
       "    </tr>\n",
       "    <tr>\n",
       "      <th>1</th>\n",
       "      <td>893</td>\n",
       "      <td>3</td>\n",
       "      <td>female</td>\n",
       "      <td>47.0</td>\n",
       "      <td>1</td>\n",
       "      <td>0</td>\n",
       "      <td>6</td>\n",
       "      <td>7.0000</td>\n",
       "      <td>M</td>\n",
       "      <td>S</td>\n",
       "      <td>NaN</td>\n",
       "      <td>2</td>\n",
       "      <td>0</td>\n",
       "      <td>141.0</td>\n",
       "      <td>(39.0, 80.0]</td>\n",
       "      <td>Mrs</td>\n",
       "      <td>2</td>\n",
       "      <td>(-0.001, 7.854]</td>\n",
       "      <td>3</td>\n",
       "    </tr>\n",
       "    <tr>\n",
       "      <th>2</th>\n",
       "      <td>894</td>\n",
       "      <td>2</td>\n",
       "      <td>male</td>\n",
       "      <td>62.0</td>\n",
       "      <td>0</td>\n",
       "      <td>0</td>\n",
       "      <td>6</td>\n",
       "      <td>9.6875</td>\n",
       "      <td>M</td>\n",
       "      <td>Q</td>\n",
       "      <td>NaN</td>\n",
       "      <td>1</td>\n",
       "      <td>1</td>\n",
       "      <td>124.0</td>\n",
       "      <td>(39.0, 80.0]</td>\n",
       "      <td>Mr</td>\n",
       "      <td>4</td>\n",
       "      <td>(7.854, 10.5]</td>\n",
       "      <td>3</td>\n",
       "    </tr>\n",
       "    <tr>\n",
       "      <th>3</th>\n",
       "      <td>895</td>\n",
       "      <td>3</td>\n",
       "      <td>male</td>\n",
       "      <td>27.0</td>\n",
       "      <td>0</td>\n",
       "      <td>0</td>\n",
       "      <td>6</td>\n",
       "      <td>8.6625</td>\n",
       "      <td>M</td>\n",
       "      <td>S</td>\n",
       "      <td>NaN</td>\n",
       "      <td>1</td>\n",
       "      <td>1</td>\n",
       "      <td>81.0</td>\n",
       "      <td>(24.0, 29.0]</td>\n",
       "      <td>Mr</td>\n",
       "      <td>4</td>\n",
       "      <td>(7.854, 10.5]</td>\n",
       "      <td>3</td>\n",
       "    </tr>\n",
       "    <tr>\n",
       "      <th>4</th>\n",
       "      <td>896</td>\n",
       "      <td>3</td>\n",
       "      <td>female</td>\n",
       "      <td>22.0</td>\n",
       "      <td>1</td>\n",
       "      <td>1</td>\n",
       "      <td>7</td>\n",
       "      <td>12.2875</td>\n",
       "      <td>M</td>\n",
       "      <td>S</td>\n",
       "      <td>NaN</td>\n",
       "      <td>3</td>\n",
       "      <td>0</td>\n",
       "      <td>66.0</td>\n",
       "      <td>(21.0, 24.0]</td>\n",
       "      <td>Mrs</td>\n",
       "      <td>3</td>\n",
       "      <td>(10.5, 21.558]</td>\n",
       "      <td>3</td>\n",
       "    </tr>\n",
       "  </tbody>\n",
       "</table>\n",
       "</div>"
      ],
      "text/plain": [
       "   PassengerId  Pclass     Sex   Age  SibSp  Parch  Ticket     Fare Cabin  \\\n",
       "0          892       3    male  34.5      0      0       6   7.8292     M   \n",
       "1          893       3  female  47.0      1      0       6   7.0000     M   \n",
       "2          894       2    male  62.0      0      0       6   9.6875     M   \n",
       "3          895       3    male  27.0      0      0       6   8.6625     M   \n",
       "4          896       3  female  22.0      1      1       7  12.2875     M   \n",
       "\n",
       "  Embarked  Survived  Fsize  IsAlone  Age_Class       Age_cut Title  \\\n",
       "0        Q       NaN      1        1      103.5  (29.0, 39.0]    Mr   \n",
       "1        S       NaN      2        0      141.0  (39.0, 80.0]   Mrs   \n",
       "2        Q       NaN      1        1      124.0  (39.0, 80.0]    Mr   \n",
       "3        S       NaN      1        1       81.0  (24.0, 29.0]    Mr   \n",
       "4        S       NaN      3        0       66.0  (21.0, 24.0]   Mrs   \n",
       "\n",
       "   Fare_Per_Person         Fare_cut  Cabin_len  \n",
       "0                3  (-0.001, 7.854]          3  \n",
       "1                2  (-0.001, 7.854]          3  \n",
       "2                4    (7.854, 10.5]          3  \n",
       "3                4    (7.854, 10.5]          3  \n",
       "4                3   (10.5, 21.558]          3  "
      ]
     },
     "execution_count": 9,
     "metadata": {},
     "output_type": "execute_result"
    }
   ],
   "source": [
    "#input mode in null values\n",
    "df['Embarked'].fillna(df['Embarked'].mode()[0], inplace = True)\n",
    "\n",
    "#Define the size of family\n",
    "df[\"Fsize\"] = df[\"SibSp\"] + df[\"Parch\"] + 1\n",
    "df['IsAlone'] = np.where(df[\"Fsize\"]==1,1,0)\n",
    "\n",
    "#Create a feature using age x pclass\n",
    "df['Age_Class']= df['Age']* df['Pclass']\n",
    "\n",
    "#Transform Age in groups\n",
    "df['Age_cut'] = pd.qcut(df['Age'],5,duplicates='drop')\n",
    "\n",
    "#Extract title of the string\n",
    "df['Title'] = df.Name.str.extract(' ([A-Za-z]+)\\.', expand=False)\n",
    "df['Title'] = df['Title'].replace(['Lady', 'Countess','Capt', 'Col','Don', 'Dr','Major', 'Rev', 'Sir', 'Jonkheer', 'Dona'], 'Rare')\n",
    "df['Title'] = df['Title'].replace('Mlle', 'Miss')\n",
    "df['Title'] = df['Title'].replace('Ms', 'Miss')\n",
    "df['Title'] = df['Title'].replace('Mme', 'Mrs')\n",
    "\n",
    "\n",
    "# Insert0 in null values \n",
    "df['Title']= df['Title'].fillna(0)\n",
    "\n",
    "#Create a null feature fare per person\n",
    "df['Fare_Per_Person'] = df['Fare']/(df[\"Fsize\"]+1)\n",
    "df['Fare_Per_Person'] = df['Fare_Per_Person'].astype(int)\n",
    "\n",
    "#Transform Fare in groups\n",
    "df['Fare_cut'] =  pd.qcut(df['Fare'],5,duplicates='drop')\n",
    "\n",
    "#Extract len of cabin\n",
    "df['Cabin_len'] = df['Cabin'].astype(str).apply(lambda x : len(x))\n",
    "\n",
    "#Extract the firstletter\n",
    "df['Cabin'] = df['Cabin'].fillna(\"M\") #filter Na and input M (missing)\n",
    "df['Cabin'] = df['Cabin'].map(lambda x: re.compile(\"([a-zA-Z]+)\").search(x).group())\n",
    "\n",
    "#Ticktet\n",
    "df['Ticket']=df.Ticket.apply(lambda x : len(x))\n",
    "\n",
    "\n",
    "#Drop some colunms\n",
    "df = df.drop(['Name'], axis = 1)\n",
    "\n",
    "df.head()"
   ]
  },
  {
   "cell_type": "code",
   "execution_count": 10,
   "metadata": {},
   "outputs": [],
   "source": [
    "scaler = preprocessing.StandardScaler().fit(df[['Age','Fare']])\n",
    "df[['Age','Fare']] = scaler.transform(df[['Age','Fare']])                                          "
   ]
  },
  {
   "cell_type": "code",
   "execution_count": 11,
   "metadata": {
    "_kg_hide-input": true
   },
   "outputs": [
    {
     "data": {
      "text/plain": [
       "<matplotlib.axes._subplots.AxesSubplot at 0x7f530d7ff828>"
      ]
     },
     "execution_count": 11,
     "metadata": {},
     "output_type": "execute_result"
    },
    {
     "data": {
      "image/png": "[encoded data removed]",
      "text/plain": [
       "<Figure size 1584x1080 with 6 Axes>"
      ]
     },
     "metadata": {
      "needs_background": "light"
     },
     "output_type": "display_data"
    }
   ],
   "source": [
    "#graph individual features by survival\n",
    "fig, saxis = plt.subplots(3, 2,figsize=(22,15))\n",
    "\n",
    "sns.barplot(x = 'Sex', y = 'Survived', data=df, ax = saxis[0,0])\n",
    "sns.barplot(x = 'SibSp', y = 'Survived',data=df, ax = saxis[0,1])\n",
    "sns.barplot(x = 'Parch', y = 'Survived',  data=df, ax = saxis[1,0])\n",
    "sns.barplot(x = 'Fare_cut', y = 'Survived', data=df, ax = saxis[1,1])\n",
    "sns.barplot(x = 'Cabin', y = 'Survived', data=df, ax = saxis[2,0])\n",
    "sns.barplot(x = 'Age_cut', y = 'Survived', data=df, ax = saxis[2,1])"
   ]
  },
  {
   "cell_type": "code",
   "execution_count": 12,
   "metadata": {},
   "outputs": [],
   "source": [
    "#Transform categorics features in numeric\n",
    "\n",
    "df['Age_cut'] =  LabelEncoder().fit_transform(df['Age_cut'])\n",
    "\n",
    "df['Fare_cut'] =  LabelEncoder().fit_transform(df['Fare_cut'])\n",
    "\n",
    "\n",
    "titles = {\"Mr\": 1, \"Miss\": 2, \"Mrs\": 3, \"Master\": 4, \"Rare\": 5}\n",
    "df['Title']= df['Title'].map(titles)\n",
    "\n",
    "groups = {\"M\": 1, \"C\": 2, \"B\": 3, \"D\": 4, \"E\": 5, \"A\": 6, \"F\": 7, \"G\": 8,'T':9}\n",
    "df['Cabin'] = df['Cabin'].map(groups)\n",
    "\n",
    "ports = {\"S\": 0, \"C\": 1, \"Q\": 2}\n",
    "df['Embarked'] = df['Embarked'].map(ports)\n",
    "\n",
    "#Transform sex in a dummies feature\n",
    "df['Sex_female'] = np.where(df['Sex'] == 'female',1,0)\n",
    "\n",
    "#Transform sex in a dummies feature\n",
    "df['Sex_male'] = np.where(df['Sex'] == 'male',1,0)\n",
    "df = df.drop(['Sex'],axis=1)"
   ]
  },
  {
   "cell_type": "code",
   "execution_count": 13,
   "metadata": {},
   "outputs": [],
   "source": [
    "from category_encoders.one_hot import OneHotEncoder\n",
    "dummies = OneHotEncoder(cols= ['Pclass','Age_cut','Fare_cut','Embarked','Title'],use_cat_names=True)\n",
    "dummies.fit(df)\n",
    "df = dummies.transform(df)"
   ]
  },
  {
   "cell_type": "markdown",
   "metadata": {},
   "source": [
    "Collinear variables are those which are highly correlated with one another. These can decrease the model's availablility to learn, decrease model interpretability, and decrease generalization performance on the test set."
   ]
  },
  {
   "cell_type": "code",
   "execution_count": 14,
   "metadata": {},
   "outputs": [
    {
     "data": {
      "text/html": [
       "<div>\n",
       "<style scoped>\n",
       "    .dataframe tbody tr th:only-of-type {\n",
       "        vertical-align: middle;\n",
       "    }\n",
       "\n",
       "    .dataframe tbody tr th {\n",
       "        vertical-align: top;\n",
       "    }\n",
       "\n",
       "    .dataframe thead th {\n",
       "        text-align: right;\n",
       "    }\n",
       "</style>\n",
       "<table border=\"1\" class=\"dataframe\">\n",
       "  <thead>\n",
       "    <tr style=\"text-align: right;\">\n",
       "      <th></th>\n",
       "      <th>PassengerId</th>\n",
       "      <th>Pclass_3.0</th>\n",
       "      <th>Pclass_2.0</th>\n",
       "      <th>Pclass_1.0</th>\n",
       "      <th>Age</th>\n",
       "      <th>SibSp</th>\n",
       "      <th>Parch</th>\n",
       "      <th>Ticket</th>\n",
       "      <th>Fare</th>\n",
       "      <th>Cabin</th>\n",
       "      <th>...</th>\n",
       "      <th>Title_5.0</th>\n",
       "      <th>Fare_Per_Person</th>\n",
       "      <th>Fare_cut_0.0</th>\n",
       "      <th>Fare_cut_1.0</th>\n",
       "      <th>Fare_cut_2.0</th>\n",
       "      <th>Fare_cut_3.0</th>\n",
       "      <th>Fare_cut_4.0</th>\n",
       "      <th>Cabin_len</th>\n",
       "      <th>Sex_female</th>\n",
       "      <th>Sex_male</th>\n",
       "    </tr>\n",
       "  </thead>\n",
       "  <tbody>\n",
       "    <tr>\n",
       "      <th>PassengerId</th>\n",
       "      <td>1.000000</td>\n",
       "      <td>0.041544</td>\n",
       "      <td>0.022714</td>\n",
       "      <td>0.026495</td>\n",
       "      <td>0.019113</td>\n",
       "      <td>0.055224</td>\n",
       "      <td>0.008942</td>\n",
       "      <td>0.001623</td>\n",
       "      <td>0.031029</td>\n",
       "      <td>0.016793</td>\n",
       "      <td>...</td>\n",
       "      <td>0.004011</td>\n",
       "      <td>0.035194</td>\n",
       "      <td>0.048268</td>\n",
       "      <td>0.055563</td>\n",
       "      <td>0.001128</td>\n",
       "      <td>0.014435</td>\n",
       "      <td>0.021562</td>\n",
       "      <td>0.030796</td>\n",
       "      <td>0.013406</td>\n",
       "      <td>0.013406</td>\n",
       "    </tr>\n",
       "    <tr>\n",
       "      <th>Pclass_3.0</th>\n",
       "      <td>0.041544</td>\n",
       "      <td>1.000000</td>\n",
       "      <td>0.563180</td>\n",
       "      <td>0.622172</td>\n",
       "      <td>0.382290</td>\n",
       "      <td>0.072610</td>\n",
       "      <td>0.019521</td>\n",
       "      <td>0.009189</td>\n",
       "      <td>0.419921</td>\n",
       "      <td>0.375052</td>\n",
       "      <td>...</td>\n",
       "      <td>0.163622</td>\n",
       "      <td>0.417220</td>\n",
       "      <td>0.421723</td>\n",
       "      <td>0.313118</td>\n",
       "      <td>0.027551</td>\n",
       "      <td>0.276761</td>\n",
       "      <td>0.435976</td>\n",
       "      <td>0.142243</td>\n",
       "      <td>0.116562</td>\n",
       "      <td>0.116562</td>\n",
       "    </tr>\n",
       "    <tr>\n",
       "      <th>Pclass_2.0</th>\n",
       "      <td>0.022714</td>\n",
       "      <td>0.563180</td>\n",
       "      <td>1.000000</td>\n",
       "      <td>0.296526</td>\n",
       "      <td>0.010619</td>\n",
       "      <td>0.052419</td>\n",
       "      <td>0.010057</td>\n",
       "      <td>0.130376</td>\n",
       "      <td>0.121168</td>\n",
       "      <td>0.078281</td>\n",
       "      <td>...</td>\n",
       "      <td>0.049092</td>\n",
       "      <td>0.108043</td>\n",
       "      <td>0.239634</td>\n",
       "      <td>0.084821</td>\n",
       "      <td>0.330757</td>\n",
       "      <td>0.199791</td>\n",
       "      <td>0.200972</td>\n",
       "      <td>0.099065</td>\n",
       "      <td>0.028862</td>\n",
       "      <td>0.028862</td>\n",
       "    </tr>\n",
       "    <tr>\n",
       "      <th>Pclass_1.0</th>\n",
       "      <td>0.026495</td>\n",
       "      <td>0.622172</td>\n",
       "      <td>0.296526</td>\n",
       "      <td>1.000000</td>\n",
       "      <td>0.431766</td>\n",
       "      <td>0.034256</td>\n",
       "      <td>0.013033</td>\n",
       "      <td>0.112900</td>\n",
       "      <td>0.600115</td>\n",
       "      <td>0.507627</td>\n",
       "      <td>...</td>\n",
       "      <td>0.142594</td>\n",
       "      <td>0.584558</td>\n",
       "      <td>0.260369</td>\n",
       "      <td>0.281522</td>\n",
       "      <td>0.281522</td>\n",
       "      <td>0.130578</td>\n",
       "      <td>0.694277</td>\n",
       "      <td>0.258250</td>\n",
       "      <td>0.107371</td>\n",
       "      <td>0.107371</td>\n",
       "    </tr>\n",
       "    <tr>\n",
       "      <th>Age</th>\n",
       "      <td>0.019113</td>\n",
       "      <td>0.382290</td>\n",
       "      <td>0.010619</td>\n",
       "      <td>0.431766</td>\n",
       "      <td>1.000000</td>\n",
       "      <td>0.198653</td>\n",
       "      <td>0.129467</td>\n",
       "      <td>0.035004</td>\n",
       "      <td>0.201170</td>\n",
       "      <td>0.200237</td>\n",
       "      <td>...</td>\n",
       "      <td>0.180134</td>\n",
       "      <td>0.229329</td>\n",
       "      <td>0.095718</td>\n",
       "      <td>0.080888</td>\n",
       "      <td>0.119782</td>\n",
       "      <td>0.062628</td>\n",
       "      <td>0.234201</td>\n",
       "      <td>0.074419</td>\n",
       "      <td>0.051876</td>\n",
       "      <td>0.051876</td>\n",
       "    </tr>\n",
       "  </tbody>\n",
       "</table>\n",
       "<p>5 rows × 36 columns</p>\n",
       "</div>"
      ],
      "text/plain": [
       "             PassengerId  Pclass_3.0  Pclass_2.0  Pclass_1.0       Age  \\\n",
       "PassengerId     1.000000    0.041544    0.022714    0.026495  0.019113   \n",
       "Pclass_3.0      0.041544    1.000000    0.563180    0.622172  0.382290   \n",
       "Pclass_2.0      0.022714    0.563180    1.000000    0.296526  0.010619   \n",
       "Pclass_1.0      0.026495    0.622172    0.296526    1.000000  0.431766   \n",
       "Age             0.019113    0.382290    0.010619    0.431766  1.000000   \n",
       "\n",
       "                SibSp     Parch    Ticket      Fare     Cabin  ...  Title_5.0  \\\n",
       "PassengerId  0.055224  0.008942  0.001623  0.031029  0.016793  ...   0.004011   \n",
       "Pclass_3.0   0.072610  0.019521  0.009189  0.419921  0.375052  ...   0.163622   \n",
       "Pclass_2.0   0.052419  0.010057  0.130376  0.121168  0.078281  ...   0.049092   \n",
       "Pclass_1.0   0.034256  0.013033  0.112900  0.600115  0.507627  ...   0.142594   \n",
       "Age          0.198653  0.129467  0.035004  0.201170  0.200237  ...   0.180134   \n",
       "\n",
       "             Fare_Per_Person  Fare_cut_0.0  Fare_cut_1.0  Fare_cut_2.0  \\\n",
       "PassengerId         0.035194      0.048268      0.055563      0.001128   \n",
       "Pclass_3.0          0.417220      0.421723      0.313118      0.027551   \n",
       "Pclass_2.0          0.108043      0.239634      0.084821      0.330757   \n",
       "Pclass_1.0          0.584558      0.260369      0.281522      0.281522   \n",
       "Age                 0.229329      0.095718      0.080888      0.119782   \n",
       "\n",
       "             Fare_cut_3.0  Fare_cut_4.0  Cabin_len  Sex_female  Sex_male  \n",
       "PassengerId      0.014435      0.021562   0.030796    0.013406  0.013406  \n",
       "Pclass_3.0       0.276761      0.435976   0.142243    0.116562  0.116562  \n",
       "Pclass_2.0       0.199791      0.200972   0.099065    0.028862  0.028862  \n",
       "Pclass_1.0       0.130578      0.694277   0.258250    0.107371  0.107371  \n",
       "Age              0.062628      0.234201   0.074419    0.051876  0.051876  \n",
       "\n",
       "[5 rows x 36 columns]"
      ]
     },
     "execution_count": 14,
     "metadata": {},
     "output_type": "execute_result"
    }
   ],
   "source": [
    "\n",
    "# Threshold for removing correlated variables\n",
    "threshold = 0.8\n",
    "\n",
    "# Absolute value correlation matrix\n",
    "corr_matrix = df.corr().abs()\n",
    "corr_matrix.head()"
   ]
  },
  {
   "cell_type": "code",
   "execution_count": 15,
   "metadata": {},
   "outputs": [
    {
     "data": {
      "text/html": [
       "<div>\n",
       "<style scoped>\n",
       "    .dataframe tbody tr th:only-of-type {\n",
       "        vertical-align: middle;\n",
       "    }\n",
       "\n",
       "    .dataframe tbody tr th {\n",
       "        vertical-align: top;\n",
       "    }\n",
       "\n",
       "    .dataframe thead th {\n",
       "        text-align: right;\n",
       "    }\n",
       "</style>\n",
       "<table border=\"1\" class=\"dataframe\">\n",
       "  <thead>\n",
       "    <tr style=\"text-align: right;\">\n",
       "      <th></th>\n",
       "      <th>PassengerId</th>\n",
       "      <th>Pclass_3.0</th>\n",
       "      <th>Pclass_2.0</th>\n",
       "      <th>Pclass_1.0</th>\n",
       "      <th>Age</th>\n",
       "      <th>SibSp</th>\n",
       "      <th>Parch</th>\n",
       "      <th>Ticket</th>\n",
       "      <th>Fare</th>\n",
       "      <th>Cabin</th>\n",
       "      <th>...</th>\n",
       "      <th>Title_5.0</th>\n",
       "      <th>Fare_Per_Person</th>\n",
       "      <th>Fare_cut_0.0</th>\n",
       "      <th>Fare_cut_1.0</th>\n",
       "      <th>Fare_cut_2.0</th>\n",
       "      <th>Fare_cut_3.0</th>\n",
       "      <th>Fare_cut_4.0</th>\n",
       "      <th>Cabin_len</th>\n",
       "      <th>Sex_female</th>\n",
       "      <th>Sex_male</th>\n",
       "    </tr>\n",
       "  </thead>\n",
       "  <tbody>\n",
       "    <tr>\n",
       "      <th>PassengerId</th>\n",
       "      <td>NaN</td>\n",
       "      <td>0.041544</td>\n",
       "      <td>0.022714</td>\n",
       "      <td>0.026495</td>\n",
       "      <td>0.019113</td>\n",
       "      <td>0.055224</td>\n",
       "      <td>0.008942</td>\n",
       "      <td>0.001623</td>\n",
       "      <td>0.031029</td>\n",
       "      <td>0.016793</td>\n",
       "      <td>...</td>\n",
       "      <td>0.004011</td>\n",
       "      <td>0.035194</td>\n",
       "      <td>0.048268</td>\n",
       "      <td>0.055563</td>\n",
       "      <td>0.001128</td>\n",
       "      <td>0.014435</td>\n",
       "      <td>0.021562</td>\n",
       "      <td>0.030796</td>\n",
       "      <td>0.013406</td>\n",
       "      <td>0.013406</td>\n",
       "    </tr>\n",
       "    <tr>\n",
       "      <th>Pclass_3.0</th>\n",
       "      <td>NaN</td>\n",
       "      <td>NaN</td>\n",
       "      <td>0.563180</td>\n",
       "      <td>0.622172</td>\n",
       "      <td>0.382290</td>\n",
       "      <td>0.072610</td>\n",
       "      <td>0.019521</td>\n",
       "      <td>0.009189</td>\n",
       "      <td>0.419921</td>\n",
       "      <td>0.375052</td>\n",
       "      <td>...</td>\n",
       "      <td>0.163622</td>\n",
       "      <td>0.417220</td>\n",
       "      <td>0.421723</td>\n",
       "      <td>0.313118</td>\n",
       "      <td>0.027551</td>\n",
       "      <td>0.276761</td>\n",
       "      <td>0.435976</td>\n",
       "      <td>0.142243</td>\n",
       "      <td>0.116562</td>\n",
       "      <td>0.116562</td>\n",
       "    </tr>\n",
       "    <tr>\n",
       "      <th>Pclass_2.0</th>\n",
       "      <td>NaN</td>\n",
       "      <td>NaN</td>\n",
       "      <td>NaN</td>\n",
       "      <td>0.296526</td>\n",
       "      <td>0.010619</td>\n",
       "      <td>0.052419</td>\n",
       "      <td>0.010057</td>\n",
       "      <td>0.130376</td>\n",
       "      <td>0.121168</td>\n",
       "      <td>0.078281</td>\n",
       "      <td>...</td>\n",
       "      <td>0.049092</td>\n",
       "      <td>0.108043</td>\n",
       "      <td>0.239634</td>\n",
       "      <td>0.084821</td>\n",
       "      <td>0.330757</td>\n",
       "      <td>0.199791</td>\n",
       "      <td>0.200972</td>\n",
       "      <td>0.099065</td>\n",
       "      <td>0.028862</td>\n",
       "      <td>0.028862</td>\n",
       "    </tr>\n",
       "    <tr>\n",
       "      <th>Pclass_1.0</th>\n",
       "      <td>NaN</td>\n",
       "      <td>NaN</td>\n",
       "      <td>NaN</td>\n",
       "      <td>NaN</td>\n",
       "      <td>0.431766</td>\n",
       "      <td>0.034256</td>\n",
       "      <td>0.013033</td>\n",
       "      <td>0.112900</td>\n",
       "      <td>0.600115</td>\n",
       "      <td>0.507627</td>\n",
       "      <td>...</td>\n",
       "      <td>0.142594</td>\n",
       "      <td>0.584558</td>\n",
       "      <td>0.260369</td>\n",
       "      <td>0.281522</td>\n",
       "      <td>0.281522</td>\n",
       "      <td>0.130578</td>\n",
       "      <td>0.694277</td>\n",
       "      <td>0.258250</td>\n",
       "      <td>0.107371</td>\n",
       "      <td>0.107371</td>\n",
       "    </tr>\n",
       "    <tr>\n",
       "      <th>Age</th>\n",
       "      <td>NaN</td>\n",
       "      <td>NaN</td>\n",
       "      <td>NaN</td>\n",
       "      <td>NaN</td>\n",
       "      <td>NaN</td>\n",
       "      <td>0.198653</td>\n",
       "      <td>0.129467</td>\n",
       "      <td>0.035004</td>\n",
       "      <td>0.201170</td>\n",
       "      <td>0.200237</td>\n",
       "      <td>...</td>\n",
       "      <td>0.180134</td>\n",
       "      <td>0.229329</td>\n",
       "      <td>0.095718</td>\n",
       "      <td>0.080888</td>\n",
       "      <td>0.119782</td>\n",
       "      <td>0.062628</td>\n",
       "      <td>0.234201</td>\n",
       "      <td>0.074419</td>\n",
       "      <td>0.051876</td>\n",
       "      <td>0.051876</td>\n",
       "    </tr>\n",
       "  </tbody>\n",
       "</table>\n",
       "<p>5 rows × 36 columns</p>\n",
       "</div>"
      ],
      "text/plain": [
       "             PassengerId  Pclass_3.0  Pclass_2.0  Pclass_1.0       Age  \\\n",
       "PassengerId          NaN    0.041544    0.022714    0.026495  0.019113   \n",
       "Pclass_3.0           NaN         NaN    0.563180    0.622172  0.382290   \n",
       "Pclass_2.0           NaN         NaN         NaN    0.296526  0.010619   \n",
       "Pclass_1.0           NaN         NaN         NaN         NaN  0.431766   \n",
       "Age                  NaN         NaN         NaN         NaN       NaN   \n",
       "\n",
       "                SibSp     Parch    Ticket      Fare     Cabin  ...  Title_5.0  \\\n",
       "PassengerId  0.055224  0.008942  0.001623  0.031029  0.016793  ...   0.004011   \n",
       "Pclass_3.0   0.072610  0.019521  0.009189  0.419921  0.375052  ...   0.163622   \n",
       "Pclass_2.0   0.052419  0.010057  0.130376  0.121168  0.078281  ...   0.049092   \n",
       "Pclass_1.0   0.034256  0.013033  0.112900  0.600115  0.507627  ...   0.142594   \n",
       "Age          0.198653  0.129467  0.035004  0.201170  0.200237  ...   0.180134   \n",
       "\n",
       "             Fare_Per_Person  Fare_cut_0.0  Fare_cut_1.0  Fare_cut_2.0  \\\n",
       "PassengerId         0.035194      0.048268      0.055563      0.001128   \n",
       "Pclass_3.0          0.417220      0.421723      0.313118      0.027551   \n",
       "Pclass_2.0          0.108043      0.239634      0.084821      0.330757   \n",
       "Pclass_1.0          0.584558      0.260369      0.281522      0.281522   \n",
       "Age                 0.229329      0.095718      0.080888      0.119782   \n",
       "\n",
       "             Fare_cut_3.0  Fare_cut_4.0  Cabin_len  Sex_female  Sex_male  \n",
       "PassengerId      0.014435      0.021562   0.030796    0.013406  0.013406  \n",
       "Pclass_3.0       0.276761      0.435976   0.142243    0.116562  0.116562  \n",
       "Pclass_2.0       0.199791      0.200972   0.099065    0.028862  0.028862  \n",
       "Pclass_1.0       0.130578      0.694277   0.258250    0.107371  0.107371  \n",
       "Age              0.062628      0.234201   0.074419    0.051876  0.051876  \n",
       "\n",
       "[5 rows x 36 columns]"
      ]
     },
     "execution_count": 15,
     "metadata": {},
     "output_type": "execute_result"
    }
   ],
   "source": [
    "# Upper triangle of correlations\n",
    "upper = corr_matrix.where(np.triu(np.ones(corr_matrix.shape), k=1).astype(np.bool))\n",
    "upper.head()"
   ]
  },
  {
   "cell_type": "code",
   "execution_count": 16,
   "metadata": {},
   "outputs": [
    {
     "name": "stdout",
     "output_type": "stream",
     "text": [
      "There are 4 columns to remove.\n",
      "Data shape:  (1309, 36)\n",
      "Size of the data (1309, 36)\n"
     ]
    }
   ],
   "source": [
    "# Select columns with correlations above threshold\n",
    "to_drop = [column for column in upper.columns if any(upper[column] > threshold)]\n",
    "\n",
    "print('There are %d columns to remove.' % (len(to_drop)))\n",
    "dataset = df.drop(columns = to_drop)\n",
    "print('Data shape: ', df.shape)\n",
    "print('Size of the data', df.shape)"
   ]
  },
  {
   "cell_type": "markdown",
   "metadata": {},
   "source": [
    "### Create a final dataframe with all features"
   ]
  },
  {
   "cell_type": "code",
   "execution_count": 17,
   "metadata": {},
   "outputs": [],
   "source": [
    "x_valid = df[df['Survived'].isna()].drop(['Survived'], axis = 1)\n",
    "submission = x_valid['PassengerId'].to_frame()\n",
    "#x_valid = x_valid.drop(['PassengerId'],axis = 1)\n",
    "\n",
    "x1 = df[df['Survived']==0]  \n",
    "x2 = df[df['Survived']==1]\n",
    "x= pd.concat([x1,x2])\n",
    "\n",
    "y =x.loc[:,['Survived','PassengerId']]\n",
    "x =x.drop(['Survived','PassengerId'], axis = 1)"
   ]
  },
  {
   "cell_type": "code",
   "execution_count": 18,
   "metadata": {},
   "outputs": [],
   "source": [
    "#Read DataFrame\n",
    "teste = pd.read_csv(\"../input/testey/full-tita.csv\",sep=\";\")\n",
    "teste = teste.drop(['x'],axis=1)\n",
    "teste\n",
    "\n",
    "x_valid = x_valid.merge(teste)\n",
    "x_valid = x_valid.drop(['Survived'],axis = 1)\n",
    "y_valid = teste['Survived']\n",
    "#df = pd.concat([test,train],sort=False)\n",
    "#df.head()"
   ]
  },
  {
   "cell_type": "markdown",
   "metadata": {},
   "source": [
    "###  Cross Validation"
   ]
  },
  {
   "cell_type": "code",
   "execution_count": 19,
   "metadata": {},
   "outputs": [],
   "source": [
    "kf = KFold(n_splits=5, shuffle=True, random_state=42)"
   ]
  },
  {
   "cell_type": "markdown",
   "metadata": {},
   "source": [
    "### Testing some Models to get the maximum accurancy ###\n",
    "1) Logistic Regression \n",
    "\n",
    "2) Support vector Machine\n",
    "\n",
    "3) Stochastic gradient descent\n",
    "\n",
    "4) k nearest neighbors\n",
    "\n",
    "5) Gaussian Naive Bayes\n",
    "\n",
    "6) Random Forest\n",
    "\n",
    "7) Bagging\n",
    "\n",
    "8) Xgboost\n",
    "\n",
    "9) Lgbm\n",
    "\n",
    "10) Stacking with voting classifier"
   ]
  },
  {
   "cell_type": "markdown",
   "metadata": {},
   "source": [
    "### 1) Logistic Regression"
   ]
  },
  {
   "cell_type": "code",
   "execution_count": 20,
   "metadata": {},
   "outputs": [
    {
     "name": "stdout",
     "output_type": "stream",
     "text": [
      "0.8058000125541398\n"
     ]
    }
   ],
   "source": [
    "lr = LogisticRegression(class_weight = 'balanced', solver = 'liblinear',penalty=\"l2\")\n",
    "lr.fit(x,y['Survived'])\n",
    "print(cross_val_score(lr, x, y['Survived'], cv=kf).mean())"
   ]
  },
  {
   "cell_type": "code",
   "execution_count": 21,
   "metadata": {},
   "outputs": [
    {
     "name": "stdout",
     "output_type": "stream",
     "text": [
      "0.7748422260470453\n"
     ]
    }
   ],
   "source": [
    "lr = LogisticRegression(class_weight = 'balanced', solver = 'liblinear',penalty=\"l1\")\n",
    "lr.fit(x,y['Survived'])\n",
    "print(cross_val_score(lr, x_valid, y_valid, cv=kf).mean())"
   ]
  },
  {
   "cell_type": "markdown",
   "metadata": {},
   "source": [
    "### 2) SVM"
   ]
  },
  {
   "cell_type": "code",
   "execution_count": 22,
   "metadata": {},
   "outputs": [
    {
     "name": "stdout",
     "output_type": "stream",
     "text": [
      "0.736231247253782\n"
     ]
    }
   ],
   "source": [
    "svm = SVC(gamma='auto',random_state=42)\n",
    "svm.fit(x,y['Survived'])\n",
    "print(cross_val_score(svm, x, y['Survived'], cv=kf).mean())"
   ]
  },
  {
   "cell_type": "code",
   "execution_count": 23,
   "metadata": {},
   "outputs": [
    {
     "name": "stdout",
     "output_type": "stream",
     "text": [
      "0.605192197360872\n"
     ]
    }
   ],
   "source": [
    "svm = SVC(gamma='auto',random_state=42)\n",
    "svm.fit(x,y['Survived'])\n",
    "print(cross_val_score(svm, x_valid, y_valid, cv=kf).mean())"
   ]
  },
  {
   "cell_type": "markdown",
   "metadata": {},
   "source": [
    "### 3) Stochastic gradient descent"
   ]
  },
  {
   "cell_type": "code",
   "execution_count": 24,
   "metadata": {},
   "outputs": [
    {
     "name": "stdout",
     "output_type": "stream",
     "text": [
      "0.7226790534178644\n"
     ]
    }
   ],
   "source": [
    "sgd = linear_model.SGDClassifier(max_iter=5, tol=None)\n",
    "sgd.fit(x,y['Survived'])\n",
    "print(cross_val_score(sgd, x, y['Survived'], cv=kf).mean())"
   ]
  },
  {
   "cell_type": "markdown",
   "metadata": {},
   "source": [
    "### 4) k nearest neighbors"
   ]
  },
  {
   "cell_type": "code",
   "execution_count": 25,
   "metadata": {},
   "outputs": [
    {
     "name": "stdout",
     "output_type": "stream",
     "text": [
      "0.7384847153348817\n"
     ]
    }
   ],
   "source": [
    "knn = KNeighborsClassifier(n_neighbors = 5)\n",
    "knn.fit(x,y['Survived'])\n",
    "print(cross_val_score(knn, x, y['Survived'], cv=kf).mean())"
   ]
  },
  {
   "cell_type": "code",
   "execution_count": 26,
   "metadata": {},
   "outputs": [
    {
     "name": "stdout",
     "output_type": "stream",
     "text": [
      "0.5596959265633965\n"
     ]
    }
   ],
   "source": [
    "knn = KNeighborsClassifier(n_neighbors = 5)\n",
    "knn.fit(x,y['Survived'])\n",
    "print(cross_val_score(knn, x_valid, y_valid, cv=kf).mean())"
   ]
  },
  {
   "cell_type": "markdown",
   "metadata": {},
   "source": [
    "### 5) Gaussian Naive Bayes"
   ]
  },
  {
   "cell_type": "code",
   "execution_count": 27,
   "metadata": {},
   "outputs": [
    {
     "name": "stdout",
     "output_type": "stream",
     "text": [
      "0.7912434875400164\n"
     ]
    }
   ],
   "source": [
    "gaussian = GaussianNB()\n",
    "gaussian.fit(x,y['Survived'])\n",
    "print(cross_val_score(gaussian, x, y['Survived'], cv=kf).mean())"
   ]
  },
  {
   "cell_type": "markdown",
   "metadata": {},
   "source": [
    "### 6) Random Forest"
   ]
  },
  {
   "cell_type": "code",
   "execution_count": 28,
   "metadata": {},
   "outputs": [
    {
     "name": "stdout",
     "output_type": "stream",
     "text": [
      "0.8282468143870441\n"
     ]
    }
   ],
   "source": [
    "rf_with_standardScaler=make_pipeline(StandardScaler(),RandomForestClassifier())\n",
    "rf_with_standardScaler.fit(x,y['Survived'])\n",
    "print(cross_val_score(rf_with_standardScaler, x, y['Survived'], cv=kf).mean())"
   ]
  },
  {
   "cell_type": "code",
   "execution_count": 29,
   "metadata": {},
   "outputs": [
    {
     "name": "stdout",
     "output_type": "stream",
     "text": [
      "0.7582616179001722\n"
     ]
    }
   ],
   "source": [
    "rf_with_standardScaler=make_pipeline(StandardScaler(),RandomForestClassifier())\n",
    "rf_with_standardScaler.fit(x,y['Survived'])\n",
    "print(cross_val_score(rf_with_standardScaler, x_valid, y_valid, cv=kf).mean())"
   ]
  },
  {
   "cell_type": "code",
   "execution_count": 30,
   "metadata": {},
   "outputs": [
    {
     "name": "stdout",
     "output_type": "stream",
     "text": [
      "0.823758709434436\n"
     ]
    },
    {
     "data": {
      "text/html": [
       "<div>\n",
       "<style scoped>\n",
       "    .dataframe tbody tr th:only-of-type {\n",
       "        vertical-align: middle;\n",
       "    }\n",
       "\n",
       "    .dataframe tbody tr th {\n",
       "        vertical-align: top;\n",
       "    }\n",
       "\n",
       "    .dataframe thead th {\n",
       "        text-align: right;\n",
       "    }\n",
       "</style>\n",
       "<table border=\"1\" class=\"dataframe\">\n",
       "  <thead>\n",
       "    <tr style=\"text-align: right;\">\n",
       "      <th></th>\n",
       "      <th>Parameters</th>\n",
       "    </tr>\n",
       "    <tr>\n",
       "      <th>feature</th>\n",
       "      <th></th>\n",
       "    </tr>\n",
       "  </thead>\n",
       "  <tbody>\n",
       "    <tr>\n",
       "      <th>Age_Class</th>\n",
       "      <td>0.107</td>\n",
       "    </tr>\n",
       "    <tr>\n",
       "      <th>Fare</th>\n",
       "      <td>0.103</td>\n",
       "    </tr>\n",
       "    <tr>\n",
       "      <th>Title_1.0</th>\n",
       "      <td>0.095</td>\n",
       "    </tr>\n",
       "    <tr>\n",
       "      <th>Age</th>\n",
       "      <td>0.084</td>\n",
       "    </tr>\n",
       "    <tr>\n",
       "      <th>Sex_male</th>\n",
       "      <td>0.083</td>\n",
       "    </tr>\n",
       "    <tr>\n",
       "      <th>Sex_female</th>\n",
       "      <td>0.067</td>\n",
       "    </tr>\n",
       "    <tr>\n",
       "      <th>Fare_Per_Person</th>\n",
       "      <td>0.063</td>\n",
       "    </tr>\n",
       "    <tr>\n",
       "      <th>Ticket</th>\n",
       "      <td>0.049</td>\n",
       "    </tr>\n",
       "    <tr>\n",
       "      <th>Fsize</th>\n",
       "      <td>0.039</td>\n",
       "    </tr>\n",
       "    <tr>\n",
       "      <th>Cabin</th>\n",
       "      <td>0.034</td>\n",
       "    </tr>\n",
       "    <tr>\n",
       "      <th>Title_2.0</th>\n",
       "      <td>0.024</td>\n",
       "    </tr>\n",
       "    <tr>\n",
       "      <th>Pclass_3.0</th>\n",
       "      <td>0.024</td>\n",
       "    </tr>\n",
       "    <tr>\n",
       "      <th>Title_3.0</th>\n",
       "      <td>0.023</td>\n",
       "    </tr>\n",
       "    <tr>\n",
       "      <th>SibSp</th>\n",
       "      <td>0.022</td>\n",
       "    </tr>\n",
       "    <tr>\n",
       "      <th>Embarked_0.0</th>\n",
       "      <td>0.013</td>\n",
       "    </tr>\n",
       "    <tr>\n",
       "      <th>Pclass_1.0</th>\n",
       "      <td>0.013</td>\n",
       "    </tr>\n",
       "    <tr>\n",
       "      <th>Parch</th>\n",
       "      <td>0.013</td>\n",
       "    </tr>\n",
       "    <tr>\n",
       "      <th>Age_cut_2.0</th>\n",
       "      <td>0.011</td>\n",
       "    </tr>\n",
       "    <tr>\n",
       "      <th>Pclass_2.0</th>\n",
       "      <td>0.011</td>\n",
       "    </tr>\n",
       "    <tr>\n",
       "      <th>IsAlone</th>\n",
       "      <td>0.011</td>\n",
       "    </tr>\n",
       "    <tr>\n",
       "      <th>Cabin_len</th>\n",
       "      <td>0.010</td>\n",
       "    </tr>\n",
       "    <tr>\n",
       "      <th>Embarked_1.0</th>\n",
       "      <td>0.010</td>\n",
       "    </tr>\n",
       "    <tr>\n",
       "      <th>Age_cut_1.0</th>\n",
       "      <td>0.010</td>\n",
       "    </tr>\n",
       "    <tr>\n",
       "      <th>Age_cut_3.0</th>\n",
       "      <td>0.010</td>\n",
       "    </tr>\n",
       "    <tr>\n",
       "      <th>Fare_cut_1.0</th>\n",
       "      <td>0.008</td>\n",
       "    </tr>\n",
       "    <tr>\n",
       "      <th>Fare_cut_3.0</th>\n",
       "      <td>0.008</td>\n",
       "    </tr>\n",
       "    <tr>\n",
       "      <th>Fare_cut_4.0</th>\n",
       "      <td>0.008</td>\n",
       "    </tr>\n",
       "    <tr>\n",
       "      <th>Age_cut_0.0</th>\n",
       "      <td>0.007</td>\n",
       "    </tr>\n",
       "    <tr>\n",
       "      <th>Fare_cut_0.0</th>\n",
       "      <td>0.007</td>\n",
       "    </tr>\n",
       "    <tr>\n",
       "      <th>Fare_cut_2.0</th>\n",
       "      <td>0.007</td>\n",
       "    </tr>\n",
       "    <tr>\n",
       "      <th>Age_cut_4.0</th>\n",
       "      <td>0.007</td>\n",
       "    </tr>\n",
       "    <tr>\n",
       "      <th>Title_4.0</th>\n",
       "      <td>0.007</td>\n",
       "    </tr>\n",
       "    <tr>\n",
       "      <th>Embarked_2.0</th>\n",
       "      <td>0.006</td>\n",
       "    </tr>\n",
       "    <tr>\n",
       "      <th>Title_5.0</th>\n",
       "      <td>0.005</td>\n",
       "    </tr>\n",
       "  </tbody>\n",
       "</table>\n",
       "</div>"
      ],
      "text/plain": [
       "                 Parameters\n",
       "feature                    \n",
       "Age_Class             0.107\n",
       "Fare                  0.103\n",
       "Title_1.0             0.095\n",
       "Age                   0.084\n",
       "Sex_male              0.083\n",
       "Sex_female            0.067\n",
       "Fare_Per_Person       0.063\n",
       "Ticket                0.049\n",
       "Fsize                 0.039\n",
       "Cabin                 0.034\n",
       "Title_2.0             0.024\n",
       "Pclass_3.0            0.024\n",
       "Title_3.0             0.023\n",
       "SibSp                 0.022\n",
       "Embarked_0.0          0.013\n",
       "Pclass_1.0            0.013\n",
       "Parch                 0.013\n",
       "Age_cut_2.0           0.011\n",
       "Pclass_2.0            0.011\n",
       "IsAlone               0.011\n",
       "Cabin_len             0.010\n",
       "Embarked_1.0          0.010\n",
       "Age_cut_1.0           0.010\n",
       "Age_cut_3.0           0.010\n",
       "Fare_cut_1.0          0.008\n",
       "Fare_cut_3.0          0.008\n",
       "Fare_cut_4.0          0.008\n",
       "Age_cut_0.0           0.007\n",
       "Fare_cut_0.0          0.007\n",
       "Fare_cut_2.0          0.007\n",
       "Age_cut_4.0           0.007\n",
       "Title_4.0             0.007\n",
       "Embarked_2.0          0.006\n",
       "Title_5.0             0.005"
      ]
     },
     "execution_count": 30,
     "metadata": {},
     "output_type": "execute_result"
    }
   ],
   "source": [
    "rf=RandomForestClassifier(n_estimators=100, oob_score = True)\n",
    "rf.fit(x,y['Survived'])\n",
    "print(cross_val_score(rf, x, y['Survived'], cv=kf).mean())\n",
    "parametros = pd.DataFrame({'feature':x.columns,'Parameters':np.round(rf.feature_importances_,3)})\n",
    "parametros = parametros.sort_values('Parameters',ascending=False).set_index('feature')\n",
    "parametros"
   ]
  },
  {
   "cell_type": "code",
   "execution_count": 31,
   "metadata": {},
   "outputs": [
    {
     "name": "stdout",
     "output_type": "stream",
     "text": [
      "0.7631382673551348\n"
     ]
    }
   ],
   "source": [
    "rf=RandomForestClassifier(n_estimators=100)\n",
    "rf.fit(x,y['Survived'])\n",
    "print(cross_val_score(rf, x_valid, y_valid, cv=kf).mean())\n"
   ]
  },
  {
   "cell_type": "markdown",
   "metadata": {},
   "source": [
    "### 7) Bagging"
   ]
  },
  {
   "cell_type": "code",
   "execution_count": 32,
   "metadata": {},
   "outputs": [
    {
     "name": "stdout",
     "output_type": "stream",
     "text": [
      "0.8271294959512898\n"
     ]
    }
   ],
   "source": [
    "bagging = BaggingClassifier(bootstrap=True,n_jobs = -1,n_estimators=100)\n",
    "bagging.fit(x,y['Survived'])\n",
    "print(cross_val_score(bagging, x, y['Survived'], cv=kf).mean())"
   ]
  },
  {
   "cell_type": "code",
   "execution_count": 33,
   "metadata": {},
   "outputs": [
    {
     "name": "stdout",
     "output_type": "stream",
     "text": [
      "0.7558519793459554\n"
     ]
    }
   ],
   "source": [
    "bagging = BaggingClassifier(bootstrap=True,n_jobs = -1,n_estimators=100)\n",
    "bagging.fit(x,y['Survived'])\n",
    "print(cross_val_score(bagging, x_valid, y_valid, cv=kf).mean())"
   ]
  },
  {
   "cell_type": "markdown",
   "metadata": {},
   "source": [
    "### 8) Xgboost"
   ]
  },
  {
   "cell_type": "code",
   "execution_count": 34,
   "metadata": {},
   "outputs": [
    {
     "name": "stdout",
     "output_type": "stream",
     "text": [
      "0.8282468143870443\n"
     ]
    }
   ],
   "source": [
    "xgboost = xgb.XGBClassifier(objective ='reg:logistic'\n",
    "                            , colsample_bytree = 0.7\n",
    "                            , learning_rate = 0.01\n",
    "                            ,max_depth = 6\n",
    "                            , n_estimators = 100\n",
    "                            ,random_state=42\n",
    "                            ,max_features= 0.8\n",
    "                          ,min_samples_leaf =0.5\n",
    "                           ,min_child_weight= 3)\n",
    "xgboost.fit(x,y['Survived'])\n",
    "print(cross_val_score(xgboost, x, y['Survived'], cv=kf).mean())"
   ]
  },
  {
   "cell_type": "code",
   "execution_count": 35,
   "metadata": {},
   "outputs": [
    {
     "name": "stdout",
     "output_type": "stream",
     "text": [
      "0.7581468732071143\n"
     ]
    }
   ],
   "source": [
    "#121 - 79,66\n",
    "\n",
    "xgboost = xgb.XGBClassifier(colsample_bytree = 0.8\n",
    "                            , learning_rate = 0.05\n",
    "                            ,max_depth = 6\n",
    "                            , n_estimators = 100\n",
    "                            ,random_state=42 \n",
    "                           )\n",
    "xgboost.fit(x,y['Survived'])\n",
    "print(cross_val_score(xgboost, x_valid, y_valid, cv=kf).mean())"
   ]
  },
  {
   "cell_type": "markdown",
   "metadata": {},
   "source": [
    "### 9) LGBM"
   ]
  },
  {
   "cell_type": "code",
   "execution_count": 36,
   "metadata": {},
   "outputs": [
    {
     "name": "stdout",
     "output_type": "stream",
     "text": [
      "0.8248885820099179\n"
     ]
    }
   ],
   "source": [
    "lgbm=lgb.LGBMClassifier()                          \n",
    "lgbm.fit(x,y['Survived'])\n",
    "print(cross_val_score(lgbm, x, y['Survived'], cv=kf).mean())"
   ]
  },
  {
   "cell_type": "code",
   "execution_count": 37,
   "metadata": {},
   "outputs": [
    {
     "name": "stdout",
     "output_type": "stream",
     "text": [
      "0.7845668387837063\n"
     ]
    }
   ],
   "source": [
    "lgbm=lgb.LGBMClassifier(colsample_bytree = 0.8\n",
    "                            , learning_rate = 0.015\n",
    "                            ,max_depth = 5\n",
    "                            , n_estimators = 100\n",
    "                            ,random_state=42 )                          \n",
    "lgbm.fit(x,y['Survived'])\n",
    "print(cross_val_score(lgbm, x_valid, y_valid, cv=kf).mean())"
   ]
  },
  {
   "cell_type": "markdown",
   "metadata": {},
   "source": [
    "### 10) Stacking (Logistic Regression + SVM + LGBM)"
   ]
  },
  {
   "cell_type": "code",
   "execution_count": 38,
   "metadata": {},
   "outputs": [
    {
     "name": "stdout",
     "output_type": "stream",
     "text": [
      "0.8192643274119641\n"
     ]
    }
   ],
   "source": [
    "stacking = VotingClassifier(estimators=[\n",
    "    ('lr',lr),('svm',svm),('rf', rf)], voting='hard')\n",
    "stacking.fit(x,y['Survived'])\n",
    "print(cross_val_score(stacking, x, y['Survived'], cv=kf).mean())"
   ]
  },
  {
   "cell_type": "code",
   "execution_count": 39,
   "metadata": {},
   "outputs": [
    {
     "name": "stdout",
     "output_type": "stream",
     "text": [
      "0.7534136546184739\n"
     ]
    }
   ],
   "source": [
    "stacking = VotingClassifier(estimators=[\n",
    "    ('lr',rf),('svm',knn),('xgboost', xgboost)], voting='hard')\n",
    "stacking.fit(x,y['Survived'])\n",
    "print(cross_val_score(stacking, x_valid, y_valid, cv=kf).mean())"
   ]
  },
  {
   "cell_type": "markdown",
   "metadata": {},
   "source": [
    "### Submission\n",
    "Choose the best models in this case Xgboost and try tuning hiper-parameters using gridsearch"
   ]
  },
  {
   "cell_type": "markdown",
   "metadata": {},
   "source": [
    "### Xgboost with hiper-parameters tuning"
   ]
  },
  {
   "cell_type": "code",
   "execution_count": 40,
   "metadata": {},
   "outputs": [
    {
     "name": "stdout",
     "output_type": "stream",
     "text": [
      "{'colsample_bytree': 0.9, 'learning_rate': 0.01, 'max_features': 0.8, 'min_child_weight': 3, 'min_samples_leaf': 0.5}\n",
      "0.8428661100998054\n"
     ]
    }
   ],
   "source": [
    "parameters = {\n",
    "              'max_features': [0.8, 0.9],\n",
    "              'min_samples_leaf' :[0.5,0.9],\n",
    "              'colsample_bytree' :[0.8,0.9],\n",
    "              'learning_rate' : [0.01,0.1],\n",
    "               'min_child_weight': [3,5,7],\n",
    "              }\n",
    "\n",
    "model2 = xgb.XGBClassifier(objective ='reg:logistic' ,random_state=42,n_estimators=100,max_depth = 6)\n",
    "grid_search2 = GridSearchCV(model2, parameters, cv=5,n_jobs=-1)\n",
    "grid_search2.fit(x,y['Survived'])\n",
    "\n",
    "print(grid_search2.best_params_)\n",
    "print(grid_search2.best_score_)"
   ]
  },
  {
   "cell_type": "markdown",
   "metadata": {},
   "source": [
    "### Plotting the feature importance using shap "
   ]
  },
  {
   "cell_type": "code",
   "execution_count": 41,
   "metadata": {},
   "outputs": [
    {
     "name": "stderr",
     "output_type": "stream",
     "text": [
      "Setting feature_perturbation = \"tree_path_dependent\" because no background data was given.\n"
     ]
    },
    {
     "data": {
      "image/png": "[encoded data removed]",
      "text/plain": [
       "<Figure size 576x684 with 2 Axes>"
      ]
     },
     "metadata": {
      "needs_background": "light"
     },
     "output_type": "display_data"
    }
   ],
   "source": [
    "explainer = shap.TreeExplainer(grid_search2.best_estimator_)\n",
    "shap_values = explainer.shap_values(x)\n",
    "shap.summary_plot(shap_values, x)"
   ]
  },
  {
   "cell_type": "markdown",
   "metadata": {},
   "source": [
    "### Drop features with low impact "
   ]
  },
  {
   "cell_type": "code",
   "execution_count": 42,
   "metadata": {},
   "outputs": [
    {
     "name": "stdout",
     "output_type": "stream",
     "text": [
      "['SibSp', 'Fsize', 'Title_4.0', 'Fare_Per_Person', 'Cabin', 'Fare', 'Pclass_2.0', 'Fare_cut_1.0', 'Age_cut_0.0', 'Age_Class', 'Age_cut_1.0', 'Ticket', 'Title_3.0', 'Fare_cut_0.0', 'Age_cut_3.0', 'Age', 'Title_2.0', 'Embarked_0.0', 'Pclass_1.0', 'Sex_male', 'Parch', 'Embarked_1.0', 'Embarked_2.0', 'Fare_cut_2.0', 'Cabin_len', 'IsAlone', 'Age_cut_2.0', 'Age_cut_4.0', 'Fare_cut_3.0', 'Fare_cut_4.0']\n"
     ]
    }
   ],
   "source": [
    "parametros = pd.DataFrame({'feature':x.columns,'Parameters':np.round(xgboost.feature_importances_,3)})\n",
    "parametros = parametros.sort_values('Parameters',ascending=False).set_index('feature')\n",
    "drop = list(parametros.tail(30).index)\n",
    "print(drop)\n",
    "\n",
    "x = x.drop(drop,axis=1)\n",
    "\n",
    "x_valid = x_valid.drop(drop,axis=1)"
   ]
  },
  {
   "cell_type": "code",
   "execution_count": 43,
   "metadata": {},
   "outputs": [
    {
     "name": "stdout",
     "output_type": "stream",
     "text": [
      "{'colsample_bytree': 0.6, 'learning_rate': 0.01, 'max_features': 0.7, 'min_child_weight': 3, 'min_samples_leaf': 0.6}\n",
      "0.8002008662356411\n"
     ]
    }
   ],
   "source": [
    "parameters = {\n",
    "              'max_features': [0.7,0.8, 0.9],\n",
    "              'min_samples_leaf' :[0.6,0.7,0.9],\n",
    "              'colsample_bytree' :[0.6,0.8,0.9],\n",
    "              'learning_rate' : [0.01,0.03,0.1],\n",
    "               'min_child_weight': [3,5,7],\n",
    "              }\n",
    "\n",
    "model2 = xgb.XGBClassifier(objective ='reg:logistic' ,random_state=42,n_estimators=100,max_depth = 7)\n",
    "grid_search2 = GridSearchCV(model2, parameters, cv=5,n_jobs=-1)\n",
    "grid_search2.fit(x,y['Survived'])\n",
    "\n",
    "print(grid_search2.best_params_)\n",
    "print(grid_search2.best_score_)"
   ]
  },
  {
   "cell_type": "code",
   "execution_count": 44,
   "metadata": {},
   "outputs": [
    {
     "name": "stdout",
     "output_type": "stream",
     "text": [
      "{'colsample_bytree': 0.8, 'learning_rate': 0.03, 'max_features': 0.7, 'min_child_weight': 7, 'min_samples_leaf': 0.6}\n",
      "0.7753298909925416\n"
     ]
    }
   ],
   "source": [
    "parameters = {\n",
    "           'max_features': [0.7,0.8, 0.9],\n",
    "              'min_samples_leaf' :[0.6,0.7,0.9],\n",
    "              'colsample_bytree' :[0.6,0.8,0.9],\n",
    "              'learning_rate' : [0.01,0.03,0.1],\n",
    "               'min_child_weight': [3,5,7],\n",
    "              }\n",
    "\n",
    "model2 = xgb.XGBClassifier(objective ='reg:logistic' ,random_state=42,n_estimators=100,max_depth = 6)\n",
    "grid_search2 = GridSearchCV(model2, parameters, cv=5,n_jobs=-1)\n",
    "grid_search2.fit(x_valid,y_valid)\n",
    "\n",
    "print(grid_search2.best_params_)\n",
    "print(grid_search2.best_score_)"
   ]
  },
  {
   "cell_type": "code",
   "execution_count": 45,
   "metadata": {},
   "outputs": [
    {
     "data": {
      "text/plain": [
       "0.777653471026965"
      ]
     },
     "execution_count": 45,
     "metadata": {},
     "output_type": "execute_result"
    }
   ],
   "source": [
    "svc=make_pipeline(StandardScaler(),SVC(random_state=1))\n",
    "r=[0.0001,0.001,0.1,1,10,50,100]\n",
    "PSVM=[{'svc__C':r, 'svc__kernel':['linear']},\n",
    "      {'svc__C':r, 'svc__gamma':r, 'svc__kernel':['rbf']}]\n",
    "GSSVM=GridSearchCV(estimator=svc, param_grid=PSVM, scoring='accuracy', cv=2)\n",
    "scores_svm=cross_val_score(GSSVM, x_valid, y_valid,scoring='accuracy', cv=5)\n",
    "np.mean(scores_svm)"
   ]
  },
  {
   "cell_type": "markdown",
   "metadata": {},
   "source": [
    "### Make submission"
   ]
  },
  {
   "cell_type": "code",
   "execution_count": 46,
   "metadata": {},
   "outputs": [],
   "source": [
    "Survived = grid_search2.best_estimator_.predict(x_valid)\n",
    "submission['Survived'] = Survived  \n",
    "submission['Survived'] = submission['Survived'].astype(int)\n",
    "submission.to_csv('submission.csv' , index=False)"
   ]
  }
 ],
 "metadata": {
  "kernelspec": {
   "display_name": "Python 3",
   "language": "python",
   "name": "python3"
  },
  "language_info": {
   "codemirror_mode": {
    "name": "ipython",
    "version": 3
   },
   "file_extension": ".py",
   "mimetype": "text/x-python",
   "name": "python",
   "nbconvert_exporter": "python",
   "pygments_lexer": "ipython3",
   "version": "3.6.6"
  }
 },
 "nbformat": 4,
 "nbformat_minor": 4
}
