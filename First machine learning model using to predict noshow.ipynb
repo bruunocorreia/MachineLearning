{
 "cells": [
  {
   "cell_type": "markdown",
   "metadata": {},
   "source": [
    "# Importando e lendo o Dataframe com a  biblioteca Pandas"
   ]
  },
  {
   "cell_type": "code",
   "execution_count": 1,
   "metadata": {},
   "outputs": [
    {
     "data": {
      "text/html": [
       "<div>\n",
       "<style scoped>\n",
       "    .dataframe tbody tr th:only-of-type {\n",
       "        vertical-align: middle;\n",
       "    }\n",
       "\n",
       "    .dataframe tbody tr th {\n",
       "        vertical-align: top;\n",
       "    }\n",
       "\n",
       "    .dataframe thead th {\n",
       "        text-align: right;\n",
       "    }\n",
       "</style>\n",
       "<table border=\"1\" class=\"dataframe\">\n",
       "  <thead>\n",
       "    <tr style=\"text-align: right;\">\n",
       "      <th></th>\n",
       "      <th>PatientId</th>\n",
       "      <th>AppointmentID</th>\n",
       "      <th>Gender</th>\n",
       "      <th>ScheduledDay</th>\n",
       "      <th>AppointmentDay</th>\n",
       "      <th>Age</th>\n",
       "      <th>Neighbourhood</th>\n",
       "      <th>Scholarship</th>\n",
       "      <th>Hipertension</th>\n",
       "      <th>Diabetes</th>\n",
       "      <th>Alcoholism</th>\n",
       "      <th>Handcap</th>\n",
       "      <th>SMS_received</th>\n",
       "      <th>No-show</th>\n",
       "    </tr>\n",
       "  </thead>\n",
       "  <tbody>\n",
       "    <tr>\n",
       "      <th>0</th>\n",
       "      <td>2.987250e+13</td>\n",
       "      <td>5642903</td>\n",
       "      <td>F</td>\n",
       "      <td>2016-04-29T18:38:08Z</td>\n",
       "      <td>2016-04-29T00:00:00Z</td>\n",
       "      <td>62</td>\n",
       "      <td>JARDIM DA PENHA</td>\n",
       "      <td>0</td>\n",
       "      <td>1</td>\n",
       "      <td>0</td>\n",
       "      <td>0</td>\n",
       "      <td>0</td>\n",
       "      <td>0</td>\n",
       "      <td>No</td>\n",
       "    </tr>\n",
       "    <tr>\n",
       "      <th>1</th>\n",
       "      <td>5.589978e+14</td>\n",
       "      <td>5642503</td>\n",
       "      <td>M</td>\n",
       "      <td>2016-04-29T16:08:27Z</td>\n",
       "      <td>2016-04-29T00:00:00Z</td>\n",
       "      <td>56</td>\n",
       "      <td>JARDIM DA PENHA</td>\n",
       "      <td>0</td>\n",
       "      <td>0</td>\n",
       "      <td>0</td>\n",
       "      <td>0</td>\n",
       "      <td>0</td>\n",
       "      <td>0</td>\n",
       "      <td>No</td>\n",
       "    </tr>\n",
       "    <tr>\n",
       "      <th>2</th>\n",
       "      <td>4.262962e+12</td>\n",
       "      <td>5642549</td>\n",
       "      <td>F</td>\n",
       "      <td>2016-04-29T16:19:04Z</td>\n",
       "      <td>2016-04-29T00:00:00Z</td>\n",
       "      <td>62</td>\n",
       "      <td>MATA DA PRAIA</td>\n",
       "      <td>0</td>\n",
       "      <td>0</td>\n",
       "      <td>0</td>\n",
       "      <td>0</td>\n",
       "      <td>0</td>\n",
       "      <td>0</td>\n",
       "      <td>No</td>\n",
       "    </tr>\n",
       "  </tbody>\n",
       "</table>\n",
       "</div>"
      ],
      "text/plain": [
       "      PatientId  AppointmentID Gender          ScheduledDay  \\\n",
       "0  2.987250e+13        5642903      F  2016-04-29T18:38:08Z   \n",
       "1  5.589978e+14        5642503      M  2016-04-29T16:08:27Z   \n",
       "2  4.262962e+12        5642549      F  2016-04-29T16:19:04Z   \n",
       "\n",
       "         AppointmentDay  Age    Neighbourhood  Scholarship  Hipertension  \\\n",
       "0  2016-04-29T00:00:00Z   62  JARDIM DA PENHA            0             1   \n",
       "1  2016-04-29T00:00:00Z   56  JARDIM DA PENHA            0             0   \n",
       "2  2016-04-29T00:00:00Z   62    MATA DA PRAIA            0             0   \n",
       "\n",
       "   Diabetes  Alcoholism  Handcap  SMS_received No-show  \n",
       "0         0           0        0             0      No  \n",
       "1         0           0        0             0      No  \n",
       "2         0           0        0             0      No  "
      ]
     },
     "execution_count": 1,
     "metadata": {},
     "output_type": "execute_result"
    }
   ],
   "source": [
    "import pandas as pd\n",
    "noshow = pd.read_csv('../input/medicalappointmentnoshown/KaggleV2-May-2016.csv',sep = ',')\n",
    "noshow.head(3)"
   ]
  },
  {
   "cell_type": "markdown",
   "metadata": {},
   "source": [
    "# Verificando a presença de valores nulos dentro do dataframe"
   ]
  },
  {
   "cell_type": "code",
   "execution_count": 2,
   "metadata": {},
   "outputs": [
    {
     "data": {
      "text/plain": [
       "PatientId         0\n",
       "AppointmentID     0\n",
       "Gender            0\n",
       "ScheduledDay      0\n",
       "AppointmentDay    0\n",
       "Age               0\n",
       "Neighbourhood     0\n",
       "Scholarship       0\n",
       "Hipertension      0\n",
       "Diabetes          0\n",
       "Alcoholism        0\n",
       "Handcap           0\n",
       "SMS_received      0\n",
       "No-show           0\n",
       "dtype: int64"
      ]
     },
     "execution_count": 2,
     "metadata": {},
     "output_type": "execute_result"
    }
   ],
   "source": [
    "noshow.isna().sum()"
   ]
  },
  {
   "cell_type": "markdown",
   "metadata": {},
   "source": [
    "# Relação entre a Variável Target (noshow) com todas as variáveis categóricas do dataframe"
   ]
  },
  {
   "cell_type": "code",
   "execution_count": 3,
   "metadata": {},
   "outputs": [
    {
     "name": "stdout",
     "output_type": "stream",
     "text": [
      "--> No-show vs Alcoholism\n",
      "No-show  Alcoholism\n",
      "No       0             85525\n",
      "         1              2683\n",
      "Yes      0             21642\n",
      "         1               677\n",
      "Name: PatientId, dtype: int64\n",
      "-------------------------------------------------------------------\n",
      "--> No-show vs Diabetes\n",
      "No-show  Diabetes\n",
      "No       0           81695\n",
      "         1            6513\n",
      "Yes      0           20889\n",
      "         1            1430\n",
      "Name: PatientId, dtype: int64\n",
      "-------------------------------------------------------------------\n",
      "--> No-show vs SMS_received\n",
      "No-show  SMS_received\n",
      "No       0               62510\n",
      "         1               25698\n",
      "Yes      0               12535\n",
      "         1                9784\n",
      "Name: PatientId, dtype: int64\n",
      "-------------------------------------------------------------------\n",
      "--> No-show vs Hipertension\n",
      "No-show  Hipertension\n",
      "No       0               70179\n",
      "         1               18029\n",
      "Yes      0               18547\n",
      "         1                3772\n",
      "Name: PatientId, dtype: int64\n",
      "-------------------------------------------------------------------\n",
      "--> No-show vs Scholarship\n",
      "No-show  Scholarship\n",
      "No       0              79925\n",
      "         1               8283\n",
      "Yes      0              19741\n",
      "         1               2578\n",
      "Name: PatientId, dtype: int64\n",
      "-------------------------------------------------------------------\n",
      "--> No-show vs Handcap\n",
      "No-show  Handcap\n",
      "No       0          86374\n",
      "         1           1676\n",
      "         2            146\n",
      "         3             10\n",
      "         4              2\n",
      "Yes      0          21912\n",
      "         1            366\n",
      "         2             37\n",
      "         3              3\n",
      "         4              1\n",
      "Name: PatientId, dtype: int64\n",
      "-------------------------------------------------------------------\n",
      "--> No-show vs Gender\n",
      "No-show  Gender\n",
      "No       F         57246\n",
      "         M         30962\n",
      "Yes      F         14594\n",
      "         M          7725\n",
      "Name: PatientId, dtype: int64\n",
      "-------------------------------------------------------------------\n"
     ]
    }
   ],
   "source": [
    "print('--> No-show vs Alcoholism')\n",
    "print(noshow.groupby(['No-show','Alcoholism'])['PatientId'].count())\n",
    "print('-------------------------------------------------------------------')\n",
    "\n",
    "print('--> No-show vs Diabetes')\n",
    "print(noshow.groupby(['No-show','Diabetes'])['PatientId'].count())\n",
    "print('-------------------------------------------------------------------')\n",
    "\n",
    "print('--> No-show vs SMS_received')\n",
    "print(noshow.groupby(['No-show','SMS_received'])['PatientId'].count())\n",
    "print('-------------------------------------------------------------------')\n",
    "\n",
    "\n",
    "print('--> No-show vs Hipertension')\n",
    "print(noshow.groupby(['No-show','Hipertension'])['PatientId'].count())\n",
    "print('-------------------------------------------------------------------')\n",
    "\n",
    "print('--> No-show vs Scholarship')\n",
    "print(noshow.groupby(['No-show','Scholarship'])['PatientId'].count())\n",
    "print('-------------------------------------------------------------------')\n",
    "\n",
    "print('--> No-show vs Handcap')\n",
    "print(noshow.groupby(['No-show','Handcap'])['PatientId'].count())\n",
    "print('-------------------------------------------------------------------')\n",
    "\n",
    "print('--> No-show vs Gender')\n",
    "print(noshow.groupby(['No-show','Gender'])['PatientId'].count())\n",
    "print('-------------------------------------------------------------------')\n"
   ]
  },
  {
   "cell_type": "markdown",
   "metadata": {},
   "source": [
    "# Distribuição das idades por no show"
   ]
  },
  {
   "cell_type": "code",
   "execution_count": 4,
   "metadata": {},
   "outputs": [
    {
     "data": {
      "image/png": "[encoded data removed]",
      "text/plain": [
       "<Figure size 432x288 with 1 Axes>"
      ]
     },
     "metadata": {
      "needs_background": "light"
     },
     "output_type": "display_data"
    }
   ],
   "source": [
    "import seaborn as sns\n",
    "from matplotlib import pyplot as plt\n",
    "box1 = plt.subplots()\n",
    "box1 = sns.boxplot(x='No-show', y='Age', data=noshow)\n",
    "box1.set_title('Boxplot do ano pela presença ou não de no show')\n",
    "box1.set_xlabel('Paciente teve no show?')\n",
    "box1.set_ylabel('Idade')\n",
    "plt.show()"
   ]
  },
  {
   "cell_type": "code",
   "execution_count": 5,
   "metadata": {},
   "outputs": [
    {
     "data": {
      "image/png": "[encoded data removed]",
      "text/plain": [
       "<Figure size 432x216 with 2 Axes>"
      ]
     },
     "metadata": {
      "needs_background": "light"
     },
     "output_type": "display_data"
    }
   ],
   "source": [
    "grafico = sns.FacetGrid(noshow, col='No-show')\n",
    "grafico.map(sns.distplot, 'Age', rug=True)\n",
    "plt.show()"
   ]
  },
  {
   "cell_type": "markdown",
   "metadata": {},
   "source": [
    "# Substituição das idades negativas\n",
    "Nesse caso foi utilizado a mediana de quem possui desfecho negativo devido a presença de valores abaixo de ser ter ocorrido em pessoas com desfecho negativo"
   ]
  },
  {
   "cell_type": "code",
   "execution_count": 6,
   "metadata": {},
   "outputs": [
    {
     "data": {
      "text/html": [
       "<div>\n",
       "<style scoped>\n",
       "    .dataframe tbody tr th:only-of-type {\n",
       "        vertical-align: middle;\n",
       "    }\n",
       "\n",
       "    .dataframe tbody tr th {\n",
       "        vertical-align: top;\n",
       "    }\n",
       "\n",
       "    .dataframe thead th {\n",
       "        text-align: right;\n",
       "    }\n",
       "</style>\n",
       "<table border=\"1\" class=\"dataframe\">\n",
       "  <thead>\n",
       "    <tr style=\"text-align: right;\">\n",
       "      <th></th>\n",
       "      <th>PatientId</th>\n",
       "      <th>AppointmentID</th>\n",
       "      <th>Gender</th>\n",
       "      <th>ScheduledDay</th>\n",
       "      <th>AppointmentDay</th>\n",
       "      <th>Age</th>\n",
       "      <th>Neighbourhood</th>\n",
       "      <th>Scholarship</th>\n",
       "      <th>Hipertension</th>\n",
       "      <th>Diabetes</th>\n",
       "      <th>Alcoholism</th>\n",
       "      <th>Handcap</th>\n",
       "      <th>SMS_received</th>\n",
       "      <th>No-show</th>\n",
       "    </tr>\n",
       "  </thead>\n",
       "  <tbody>\n",
       "    <tr>\n",
       "      <th>99832</th>\n",
       "      <td>4.659432e+14</td>\n",
       "      <td>5775010</td>\n",
       "      <td>F</td>\n",
       "      <td>2016-06-06T08:58:13Z</td>\n",
       "      <td>2016-06-06T00:00:00Z</td>\n",
       "      <td>-1</td>\n",
       "      <td>ROMÃO</td>\n",
       "      <td>0</td>\n",
       "      <td>0</td>\n",
       "      <td>0</td>\n",
       "      <td>0</td>\n",
       "      <td>0</td>\n",
       "      <td>0</td>\n",
       "      <td>No</td>\n",
       "    </tr>\n",
       "  </tbody>\n",
       "</table>\n",
       "</div>"
      ],
      "text/plain": [
       "          PatientId  AppointmentID Gender          ScheduledDay  \\\n",
       "99832  4.659432e+14        5775010      F  2016-06-06T08:58:13Z   \n",
       "\n",
       "             AppointmentDay  Age Neighbourhood  Scholarship  Hipertension  \\\n",
       "99832  2016-06-06T00:00:00Z   -1         ROMÃO            0             0   \n",
       "\n",
       "       Diabetes  Alcoholism  Handcap  SMS_received No-show  \n",
       "99832         0           0        0             0      No  "
      ]
     },
     "execution_count": 6,
     "metadata": {},
     "output_type": "execute_result"
    }
   ],
   "source": [
    "#Filtrando pessoas com idade negativa\n",
    "noshow[noshow['Age']<0]"
   ]
  },
  {
   "cell_type": "code",
   "execution_count": 7,
   "metadata": {},
   "outputs": [
    {
     "data": {
      "text/plain": [
       "38.0"
      ]
     },
     "execution_count": 7,
     "metadata": {},
     "output_type": "execute_result"
    }
   ],
   "source": [
    "#capturando as mediana das pessoas com desfecho dnegativo\n",
    "median_noshow_no = noshow[noshow['No-show']=='No']['Age'].median()\n",
    "median_noshow_no"
   ]
  },
  {
   "cell_type": "code",
   "execution_count": 8,
   "metadata": {},
   "outputs": [
    {
     "name": "stdout",
     "output_type": "stream",
     "text": [
      "No-show = Não com ajuste\n",
      "----------------------------\n",
      "count    88208.000000\n",
      "mean        39.039826\n",
      "std         22.274966\n",
      "min          1.000000\n",
      "25%         21.000000\n",
      "50%         38.000000\n",
      "75%         56.000000\n",
      "max        115.000000\n",
      "Name: Age, dtype: float64\n"
     ]
    }
   ],
   "source": [
    "import numpy as np\n",
    "noshow['Age'] = np.where(noshow['Age']<1,median_noshow_no,noshow['Age'])\n",
    "print('No-show = Não com ajuste')\n",
    "print('----------------------------')\n",
    "print(noshow.loc[noshow['No-show'] == 'No','Age'].describe()) #nova descrição de idade"
   ]
  },
  {
   "cell_type": "markdown",
   "metadata": {},
   "source": [
    "# Criando faixa etária"
   ]
  },
  {
   "cell_type": "code",
   "execution_count": 9,
   "metadata": {},
   "outputs": [],
   "source": [
    "conditions  = [ noshow['Age'] < 10\n",
    "               , (noshow['Age'] < 20) & (noshow['Age']>= 10)\n",
    "               , (noshow['Age'] < 30) & (noshow['Age']>= 20)\n",
    "               , (noshow['Age'] < 40) & (noshow['Age']>= 30)\n",
    "               , (noshow['Age'] < 50) & (noshow['Age']>= 40)\n",
    "               , (noshow['Age'] < 60) & (noshow['Age']>= 50)\n",
    "               , (noshow['Age'] < 70) & (noshow['Age']>= 60)\n",
    "               ,  noshow['Age'] >= 70 ]\n",
    "\n",
    "choices     = ['0-10','10-20','20-30','30-40','40-50','50-60','60-70','>70']\n",
    "\n",
    "noshow['fx_etaria'] = np.select(conditions, choices, default=np.nan)"
   ]
  },
  {
   "cell_type": "markdown",
   "metadata": {},
   "source": [
    "# Transformação das variáveis datetime\n"
   ]
  },
  {
   "cell_type": "code",
   "execution_count": 10,
   "metadata": {},
   "outputs": [],
   "source": [
    "noshow['ScheduledDay'] = pd.to_datetime(noshow['ScheduledDay'])\n",
    "noshow['AppointmentDay'] = pd.to_datetime(noshow['AppointmentDay'])\n",
    "\n",
    "#variaveis relacionada a scheduled\n",
    "noshow['Scheduled_Month'] = noshow['ScheduledDay'].apply(lambda x: x.month)\n",
    "noshow['Scheduled_Year'] = noshow['ScheduledDay'].apply(lambda x: x.year)\n",
    "noshow['Scheduled_WeekDay'] = noshow['ScheduledDay'].apply(lambda x: x.strftime(\"%A\"))\n",
    "\n",
    "#variaveis reacionadas ao appointment\n",
    "noshow['Appointment_Month'] = noshow['AppointmentDay'].apply(lambda x: x.month)\n",
    "noshow['Appointment_Year'] = noshow['AppointmentDay'].apply(lambda x: x.year)\n",
    "noshow['Appointment_WeekDay'] = noshow['AppointmentDay'].apply(lambda x: x.strftime(\"%A\"))\n",
    "\n",
    "#Diferenca entre datas\n",
    "noshow['DeltaScheduleAppointment_Days'] = noshow['ScheduledDay']-noshow['AppointmentDay']\n",
    "noshow['DeltaScheduleAppointment_Days'] = noshow['DeltaScheduleAppointment_Days']/np.timedelta64(1,'D')\n",
    "\n",
    "#tratando dados diferenca negativa\n",
    "noshow['DeltaScheduleAppointment_Days'] = np.where(noshow['DeltaScheduleAppointment_Days'] < 0 \n",
    "                                                   ,0,noshow['DeltaScheduleAppointment_Days'] )\n"
   ]
  },
  {
   "cell_type": "markdown",
   "metadata": {},
   "source": [
    "# OneHotEncoder nas variavéis categoricas Gender, Handcap, Appointment_WeekDay,Scheduled_WeekDay e faixa etária\n",
    "Aplicando OneHotEncoder as variavéis se transformam em novas colunas onde 1 representa o valor afirmativo e 0 o valor negativo\n"
   ]
  },
  {
   "cell_type": "code",
   "execution_count": 11,
   "metadata": {},
   "outputs": [
    {
     "data": {
      "text/html": [
       "<div>\n",
       "<style scoped>\n",
       "    .dataframe tbody tr th:only-of-type {\n",
       "        vertical-align: middle;\n",
       "    }\n",
       "\n",
       "    .dataframe tbody tr th {\n",
       "        vertical-align: top;\n",
       "    }\n",
       "\n",
       "    .dataframe thead th {\n",
       "        text-align: right;\n",
       "    }\n",
       "</style>\n",
       "<table border=\"1\" class=\"dataframe\">\n",
       "  <thead>\n",
       "    <tr style=\"text-align: right;\">\n",
       "      <th></th>\n",
       "      <th>PatientId</th>\n",
       "      <th>AppointmentID</th>\n",
       "      <th>Gender_F</th>\n",
       "      <th>Gender_M</th>\n",
       "      <th>ScheduledDay</th>\n",
       "      <th>AppointmentDay</th>\n",
       "      <th>Age</th>\n",
       "      <th>Neighbourhood</th>\n",
       "      <th>Scholarship</th>\n",
       "      <th>Hipertension</th>\n",
       "      <th>...</th>\n",
       "      <th>Scheduled_WeekDay_Saturday</th>\n",
       "      <th>Appointment_Month</th>\n",
       "      <th>Appointment_Year</th>\n",
       "      <th>Appointment_WeekDay_Friday</th>\n",
       "      <th>Appointment_WeekDay_Tuesday</th>\n",
       "      <th>Appointment_WeekDay_Monday</th>\n",
       "      <th>Appointment_WeekDay_Wednesday</th>\n",
       "      <th>Appointment_WeekDay_Thursday</th>\n",
       "      <th>Appointment_WeekDay_Saturday</th>\n",
       "      <th>DeltaScheduleAppointment_Days</th>\n",
       "    </tr>\n",
       "  </thead>\n",
       "  <tbody>\n",
       "    <tr>\n",
       "      <th>0</th>\n",
       "      <td>2.987250e+13</td>\n",
       "      <td>5642903</td>\n",
       "      <td>1</td>\n",
       "      <td>0</td>\n",
       "      <td>2016-04-29 18:38:08+00:00</td>\n",
       "      <td>2016-04-29 00:00:00+00:00</td>\n",
       "      <td>62.0</td>\n",
       "      <td>JARDIM DA PENHA</td>\n",
       "      <td>0</td>\n",
       "      <td>1</td>\n",
       "      <td>...</td>\n",
       "      <td>0</td>\n",
       "      <td>4</td>\n",
       "      <td>2016</td>\n",
       "      <td>1</td>\n",
       "      <td>0</td>\n",
       "      <td>0</td>\n",
       "      <td>0</td>\n",
       "      <td>0</td>\n",
       "      <td>0</td>\n",
       "      <td>0.776481</td>\n",
       "    </tr>\n",
       "    <tr>\n",
       "      <th>1</th>\n",
       "      <td>5.589978e+14</td>\n",
       "      <td>5642503</td>\n",
       "      <td>0</td>\n",
       "      <td>1</td>\n",
       "      <td>2016-04-29 16:08:27+00:00</td>\n",
       "      <td>2016-04-29 00:00:00+00:00</td>\n",
       "      <td>56.0</td>\n",
       "      <td>JARDIM DA PENHA</td>\n",
       "      <td>0</td>\n",
       "      <td>0</td>\n",
       "      <td>...</td>\n",
       "      <td>0</td>\n",
       "      <td>4</td>\n",
       "      <td>2016</td>\n",
       "      <td>1</td>\n",
       "      <td>0</td>\n",
       "      <td>0</td>\n",
       "      <td>0</td>\n",
       "      <td>0</td>\n",
       "      <td>0</td>\n",
       "      <td>0.672535</td>\n",
       "    </tr>\n",
       "    <tr>\n",
       "      <th>2</th>\n",
       "      <td>4.262962e+12</td>\n",
       "      <td>5642549</td>\n",
       "      <td>1</td>\n",
       "      <td>0</td>\n",
       "      <td>2016-04-29 16:19:04+00:00</td>\n",
       "      <td>2016-04-29 00:00:00+00:00</td>\n",
       "      <td>62.0</td>\n",
       "      <td>MATA DA PRAIA</td>\n",
       "      <td>0</td>\n",
       "      <td>0</td>\n",
       "      <td>...</td>\n",
       "      <td>0</td>\n",
       "      <td>4</td>\n",
       "      <td>2016</td>\n",
       "      <td>1</td>\n",
       "      <td>0</td>\n",
       "      <td>0</td>\n",
       "      <td>0</td>\n",
       "      <td>0</td>\n",
       "      <td>0</td>\n",
       "      <td>0.679907</td>\n",
       "    </tr>\n",
       "    <tr>\n",
       "      <th>3</th>\n",
       "      <td>8.679512e+11</td>\n",
       "      <td>5642828</td>\n",
       "      <td>1</td>\n",
       "      <td>0</td>\n",
       "      <td>2016-04-29 17:29:31+00:00</td>\n",
       "      <td>2016-04-29 00:00:00+00:00</td>\n",
       "      <td>8.0</td>\n",
       "      <td>PONTAL DE CAMBURI</td>\n",
       "      <td>0</td>\n",
       "      <td>0</td>\n",
       "      <td>...</td>\n",
       "      <td>0</td>\n",
       "      <td>4</td>\n",
       "      <td>2016</td>\n",
       "      <td>1</td>\n",
       "      <td>0</td>\n",
       "      <td>0</td>\n",
       "      <td>0</td>\n",
       "      <td>0</td>\n",
       "      <td>0</td>\n",
       "      <td>0.728831</td>\n",
       "    </tr>\n",
       "    <tr>\n",
       "      <th>4</th>\n",
       "      <td>8.841186e+12</td>\n",
       "      <td>5642494</td>\n",
       "      <td>1</td>\n",
       "      <td>0</td>\n",
       "      <td>2016-04-29 16:07:23+00:00</td>\n",
       "      <td>2016-04-29 00:00:00+00:00</td>\n",
       "      <td>56.0</td>\n",
       "      <td>JARDIM DA PENHA</td>\n",
       "      <td>0</td>\n",
       "      <td>1</td>\n",
       "      <td>...</td>\n",
       "      <td>0</td>\n",
       "      <td>4</td>\n",
       "      <td>2016</td>\n",
       "      <td>1</td>\n",
       "      <td>0</td>\n",
       "      <td>0</td>\n",
       "      <td>0</td>\n",
       "      <td>0</td>\n",
       "      <td>0</td>\n",
       "      <td>0.671794</td>\n",
       "    </tr>\n",
       "  </tbody>\n",
       "</table>\n",
       "<p>5 rows × 44 columns</p>\n",
       "</div>"
      ],
      "text/plain": [
       "      PatientId  AppointmentID  Gender_F  Gender_M              ScheduledDay  \\\n",
       "0  2.987250e+13        5642903         1         0 2016-04-29 18:38:08+00:00   \n",
       "1  5.589978e+14        5642503         0         1 2016-04-29 16:08:27+00:00   \n",
       "2  4.262962e+12        5642549         1         0 2016-04-29 16:19:04+00:00   \n",
       "3  8.679512e+11        5642828         1         0 2016-04-29 17:29:31+00:00   \n",
       "4  8.841186e+12        5642494         1         0 2016-04-29 16:07:23+00:00   \n",
       "\n",
       "             AppointmentDay   Age      Neighbourhood  Scholarship  \\\n",
       "0 2016-04-29 00:00:00+00:00  62.0    JARDIM DA PENHA            0   \n",
       "1 2016-04-29 00:00:00+00:00  56.0    JARDIM DA PENHA            0   \n",
       "2 2016-04-29 00:00:00+00:00  62.0      MATA DA PRAIA            0   \n",
       "3 2016-04-29 00:00:00+00:00   8.0  PONTAL DE CAMBURI            0   \n",
       "4 2016-04-29 00:00:00+00:00  56.0    JARDIM DA PENHA            0   \n",
       "\n",
       "   Hipertension  ...  Scheduled_WeekDay_Saturday  Appointment_Month  \\\n",
       "0             1  ...                           0                  4   \n",
       "1             0  ...                           0                  4   \n",
       "2             0  ...                           0                  4   \n",
       "3             0  ...                           0                  4   \n",
       "4             1  ...                           0                  4   \n",
       "\n",
       "   Appointment_Year  Appointment_WeekDay_Friday  Appointment_WeekDay_Tuesday  \\\n",
       "0              2016                           1                            0   \n",
       "1              2016                           1                            0   \n",
       "2              2016                           1                            0   \n",
       "3              2016                           1                            0   \n",
       "4              2016                           1                            0   \n",
       "\n",
       "   Appointment_WeekDay_Monday  Appointment_WeekDay_Wednesday  \\\n",
       "0                           0                              0   \n",
       "1                           0                              0   \n",
       "2                           0                              0   \n",
       "3                           0                              0   \n",
       "4                           0                              0   \n",
       "\n",
       "   Appointment_WeekDay_Thursday Appointment_WeekDay_Saturday  \\\n",
       "0                             0                            0   \n",
       "1                             0                            0   \n",
       "2                             0                            0   \n",
       "3                             0                            0   \n",
       "4                             0                            0   \n",
       "\n",
       "   DeltaScheduleAppointment_Days  \n",
       "0                       0.776481  \n",
       "1                       0.672535  \n",
       "2                       0.679907  \n",
       "3                       0.728831  \n",
       "4                       0.671794  \n",
       "\n",
       "[5 rows x 44 columns]"
      ]
     },
     "execution_count": 11,
     "metadata": {},
     "output_type": "execute_result"
    }
   ],
   "source": [
    "from category_encoders.one_hot import OneHotEncoder\n",
    "noshow_bin = noshow\n",
    "\n",
    "binarizar = OneHotEncoder(cols= ['Gender','Handcap','Appointment_WeekDay','Scheduled_WeekDay','fx_etaria'],use_cat_names=True)\n",
    "binarizar.fit(noshow_bin)\n",
    "noshow_bin = binarizar.transform(noshow_bin)\n",
    "\n",
    "noshow_bin.head()"
   ]
  },
  {
   "cell_type": "markdown",
   "metadata": {},
   "source": [
    "# Padronizando das variáveis contínuas \n",
    "padronização = x - média/desvio padrao \n",
    "O processo faz com que todas minhas variaveis numéricas permanecam na mesma escala"
   ]
  },
  {
   "cell_type": "code",
   "execution_count": 12,
   "metadata": {},
   "outputs": [],
   "source": [
    "noshow_bin.reset_index()\n",
    "\n",
    "from sklearn import preprocessing\n",
    "padronizar = preprocessing.StandardScaler().fit(noshow_bin[['Age','Scheduled_Month','Scheduled_Year'\n",
    "                                                            ,'Appointment_Month','Appointment_Year'\n",
    "                                                            ,'DeltaScheduleAppointment_Days']])\n",
    "\n",
    "noshow_bin[['Age','Scheduled_Month','Scheduled_Year','Appointment_Month','Appointment_Year'\n",
    ",'DeltaScheduleAppointment_Days']] = padronizar.transform(noshow_bin[['Age'\n",
    "                                                                     ,'Scheduled_Month'\n",
    "                                                                     ,'Scheduled_Year'\n",
    "                                                                     ,'Appointment_Month'\n",
    "                                                                     ,'Appointment_Year'\n",
    "                                                                     ,'DeltaScheduleAppointment_Days']])"
   ]
  },
  {
   "cell_type": "markdown",
   "metadata": {},
   "source": [
    "# Separando variável target das features"
   ]
  },
  {
   "cell_type": "code",
   "execution_count": 13,
   "metadata": {},
   "outputs": [
    {
     "data": {
      "text/plain": [
       "Index(['PatientId', 'AppointmentID', 'Gender_F', 'Gender_M', 'ScheduledDay',\n",
       "       'AppointmentDay', 'Age', 'Neighbourhood', 'Scholarship', 'Hipertension',\n",
       "       'Diabetes', 'Alcoholism', 'Handcap_0.0', 'Handcap_1.0', 'Handcap_2.0',\n",
       "       'Handcap_3.0', 'Handcap_4.0', 'SMS_received', 'No-show',\n",
       "       'fx_etaria_60-70', 'fx_etaria_50-60', 'fx_etaria_0-10', 'fx_etaria_>70',\n",
       "       'fx_etaria_20-30', 'fx_etaria_30-40', 'fx_etaria_10-20',\n",
       "       'fx_etaria_40-50', 'Scheduled_Month', 'Scheduled_Year',\n",
       "       'Scheduled_WeekDay_Friday', 'Scheduled_WeekDay_Wednesday',\n",
       "       'Scheduled_WeekDay_Tuesday', 'Scheduled_WeekDay_Thursday',\n",
       "       'Scheduled_WeekDay_Monday', 'Scheduled_WeekDay_Saturday',\n",
       "       'Appointment_Month', 'Appointment_Year', 'Appointment_WeekDay_Friday',\n",
       "       'Appointment_WeekDay_Tuesday', 'Appointment_WeekDay_Monday',\n",
       "       'Appointment_WeekDay_Wednesday', 'Appointment_WeekDay_Thursday',\n",
       "       'Appointment_WeekDay_Saturday', 'DeltaScheduleAppointment_Days'],\n",
       "      dtype='object')"
      ]
     },
     "execution_count": 13,
     "metadata": {},
     "output_type": "execute_result"
    }
   ],
   "source": [
    "noshow_bin.columns"
   ]
  },
  {
   "cell_type": "code",
   "execution_count": 14,
   "metadata": {},
   "outputs": [],
   "source": [
    "x = noshow_bin.loc[:,['Age','Appointment_Month', 'Appointment_Year','Scheduled_Year','DeltaScheduleAppointment_Days'\n",
    "                      ,'Scheduled_Month'#numericos\n",
    "                      ,'Gender_F', 'Gender_M','Scholarship','Hipertension','Diabetes', 'Alcoholism'#categoricos\n",
    "                      , 'Handcap_0.0', 'Handcap_1.0', 'Handcap_2.0','Handcap_3.0', 'Handcap_4.0'\n",
    "                      , 'SMS_received','Scheduled_WeekDay_Friday'\n",
    "                      ,'Scheduled_WeekDay_Wednesday', 'Scheduled_WeekDay_Tuesday'\n",
    "                      ,'Scheduled_WeekDay_Thursday', 'Scheduled_WeekDay_Monday'\n",
    "                      ,'Scheduled_WeekDay_Saturday','Appointment_WeekDay_Friday'\n",
    "                      , 'Appointment_WeekDay_Tuesday','Appointment_WeekDay_Monday'\n",
    "                      , 'Appointment_WeekDay_Wednesday','Appointment_WeekDay_Thursday'\n",
    "                      , 'Appointment_WeekDay_Saturday','fx_etaria_60-70', 'fx_etaria_50-60'\n",
    "                      , 'fx_etaria_0-10', 'fx_etaria_>70','fx_etaria_20-30', 'fx_etaria_30-40'\n",
    "                      , 'fx_etaria_10-20','fx_etaria_40-50']]\n",
    "y = noshow_bin.loc[:,'No-show']"
   ]
  },
  {
   "cell_type": "code",
   "execution_count": 15,
   "metadata": {},
   "outputs": [],
   "source": [
    "from sklearn.preprocessing import LabelEncoder\n",
    "\n",
    "x[['Gender_F', 'Gender_M','Scholarship','Hipertension','Diabetes', 'Alcoholism'\n",
    "          , 'Handcap_0.0', 'Handcap_1.0', 'Handcap_2.0','Handcap_3.0', 'Handcap_4.0'\n",
    "          , 'SMS_received','Scheduled_WeekDay_Friday'\n",
    "          ,'Scheduled_WeekDay_Wednesday', 'Scheduled_WeekDay_Tuesday'\n",
    "          ,'Scheduled_WeekDay_Thursday', 'Scheduled_WeekDay_Monday'\n",
    "          ,'Scheduled_WeekDay_Saturday','Appointment_WeekDay_Friday'\n",
    "          , 'Appointment_WeekDay_Tuesday','Appointment_WeekDay_Monday'\n",
    "          , 'Appointment_WeekDay_Wednesday','Appointment_WeekDay_Thursday'\n",
    "          , 'Appointment_WeekDay_Saturday','fx_etaria_60-70', 'fx_etaria_50-60'\n",
    "          , 'fx_etaria_0-10', 'fx_etaria_>70','fx_etaria_20-30', 'fx_etaria_30-40'\n",
    "          , 'fx_etaria_10-20','fx_etaria_40-50']].apply(LabelEncoder().fit_transform)\n",
    "\n",
    "y = LabelEncoder().fit_transform(y)"
   ]
  },
  {
   "cell_type": "markdown",
   "metadata": {},
   "source": [
    "# Dividindo o dataframe em 70% treino e 30% teste"
   ]
  },
  {
   "cell_type": "code",
   "execution_count": 16,
   "metadata": {},
   "outputs": [],
   "source": [
    "from sklearn.model_selection import train_test_split\n",
    "x_treino, x_teste, y_treino, y_teste = train_test_split(x,y,test_size=0.3,random_state=1)"
   ]
  },
  {
   "cell_type": "markdown",
   "metadata": {},
   "source": [
    "# Xgboost\n",
    "modelo baseando em gradient boosting onde o previsor sucessor é criado baseado no residuo do previsor antecessor"
   ]
  },
  {
   "cell_type": "code",
   "execution_count": 17,
   "metadata": {},
   "outputs": [
    {
     "name": "stdout",
     "output_type": "stream",
     "text": [
      "recall: 0.5718015665796344\n",
      "accuracy: 0.8002050725293284\n",
      "---------------------------------------------\n",
      "[[26315  6461]\n",
      " [  164   219]]\n",
      "---------------------------------------------\n",
      "              precision    recall  f1-score   support\n",
      "\n",
      "           0       0.99      0.80      0.89     32776\n",
      "           1       0.03      0.57      0.06       383\n",
      "\n",
      "    accuracy                           0.80     33159\n",
      "   macro avg       0.51      0.69      0.48     33159\n",
      "weighted avg       0.98      0.80      0.88     33159\n",
      "\n"
     ]
    },
    {
     "data": {
      "image/png": "[encoded data removed]",
      "text/plain": [
       "<Figure size 432x288 with 1 Axes>"
      ]
     },
     "metadata": {
      "needs_background": "light"
     },
     "output_type": "display_data"
    }
   ],
   "source": [
    "import xgboost as xgb\n",
    "import matplotlib.pyplot as plt \n",
    "from sklearn.metrics import recall_score,accuracy_score,classification_report,confusion_matrix\n",
    "\n",
    "xgboost_ = xgb.XGBClassifier(objective ='reg:logistic', colsample_bytree = 0.8, learning_rate = 0.2,\n",
    "                max_depth = 7, n_estimators = 100,random_state=0)\n",
    "xgboost_.fit(x_treino,y_treino)\n",
    "\n",
    "#realização do predict\n",
    "previsoes = xgboost_.predict(x_teste)\n",
    "\n",
    "print('recall:' , recall_score(previsoes,y_teste))\n",
    "print('accuracy:' , accuracy_score(previsoes,y_teste))\n",
    "print('---------------------------------------------')\n",
    "print(confusion_matrix(previsoes,y_teste))\n",
    "print('---------------------------------------------')\n",
    "print(classification_report(previsoes,y_teste))\n",
    "\n",
    "xgb.plot_importance(xgboost_)\n",
    "plt.show() \n"
   ]
  },
  {
   "cell_type": "code",
   "execution_count": 18,
   "metadata": {},
   "outputs": [
    {
     "name": "stdout",
     "output_type": "stream",
     "text": [
      "('Age', 0.032268096)\n",
      "('Appointment_Month', 0.034130525)\n",
      "('Appointment_Year', 0.0)\n",
      "('Scheduled_Year', 0.012160218)\n",
      "('DeltaScheduleAppointment_Days', 0.11714805)\n",
      "('Scheduled_Month', 0.07953952)\n",
      "('Gender_F', 0.018241117)\n",
      "('Gender_M', 0.03126482)\n",
      "('Scholarship', 0.025356395)\n",
      "('Hipertension', 0.019756278)\n",
      "('Diabetes', 0.01849717)\n",
      "('Alcoholism', 0.028619392)\n",
      "('Handcap_0.0', 0.020354493)\n",
      "('Handcap_1.0', 0.030123152)\n",
      "('Handcap_2.0', 0.018612163)\n",
      "('Handcap_3.0', 0.0036880122)\n",
      "('Handcap_4.0', 0.0)\n",
      "('SMS_received', 0.059359226)\n",
      "('Scheduled_WeekDay_Friday', 0.025761617)\n",
      "('Scheduled_WeekDay_Wednesday', 0.02656314)\n",
      "('Scheduled_WeekDay_Tuesday', 0.028878052)\n",
      "('Scheduled_WeekDay_Thursday', 0.019585105)\n",
      "('Scheduled_WeekDay_Monday', 0.021649161)\n",
      "('Scheduled_WeekDay_Saturday', 0.013699001)\n",
      "('Appointment_WeekDay_Friday', 0.024618244)\n",
      "('Appointment_WeekDay_Tuesday', 0.01776577)\n",
      "('Appointment_WeekDay_Monday', 0.021650713)\n",
      "('Appointment_WeekDay_Wednesday', 0.018935265)\n",
      "('Appointment_WeekDay_Thursday', 0.019363735)\n",
      "('Appointment_WeekDay_Saturday', 0.0068867975)\n",
      "('fx_etaria_60-70', 0.032183006)\n",
      "('fx_etaria_50-60', 0.021361904)\n",
      "('fx_etaria_0-10', 0.014873704)\n",
      "('fx_etaria_>70', 0.03454299)\n",
      "('fx_etaria_20-30', 0.02234251)\n",
      "('fx_etaria_30-40', 0.013466338)\n",
      "('fx_etaria_10-20', 0.052034184)\n",
      "('fx_etaria_40-50', 0.014720127)\n"
     ]
    }
   ],
   "source": [
    "#Visulaizando feature_importance\n",
    "feature = []\n",
    "for feature in zip(x_treino, xgboost_.feature_importances_):\n",
    "    print(feature)"
   ]
  },
  {
   "cell_type": "markdown",
   "metadata": {},
   "source": [
    "# Tuning Hiperparâmetros - Grid Search - Xgboost\n",
    "Tentar todos as combinações possíveis utilizando os hiperparametros passados, foi utilizado os hiperparametros:\n",
    "learning_rate = taxa de aprendizado, max_depth = máxima rofundidade das arvores, colsample_bytree = porcentagem de colunas utilizadas em cada árvore"
   ]
  },
  {
   "cell_type": "code",
   "execution_count": 19,
   "metadata": {},
   "outputs": [
    {
     "name": "stdout",
     "output_type": "stream",
     "text": [
      "Fitting 4 folds for each of 18 candidates, totalling 72 fits\n"
     ]
    },
    {
     "name": "stderr",
     "output_type": "stream",
     "text": [
      "[Parallel(n_jobs=1)]: Using backend SequentialBackend with 1 concurrent workers.\n",
      "[Parallel(n_jobs=1)]: Done  72 out of  72 | elapsed:  6.1min finished\n"
     ]
    },
    {
     "data": {
      "text/plain": [
       "GridSearchCV(cv=4, error_score=nan,\n",
       "             estimator=XGBClassifier(base_score=None, booster=None,\n",
       "                                     colsample_bylevel=None,\n",
       "                                     colsample_bynode=None,\n",
       "                                     colsample_bytree=None, gamma=None,\n",
       "                                     gpu_id=None, importance_type='gain',\n",
       "                                     interaction_constraints=None,\n",
       "                                     learning_rate=None, max_delta_step=None,\n",
       "                                     max_depth=None, min_child_weight=None,\n",
       "                                     missing=nan, monotone_constraints=None,\n",
       "                                     n_estim...\n",
       "                                     objective='reg:logistic', random_state=0,\n",
       "                                     reg_alpha=None, reg_lambda=None,\n",
       "                                     scale_pos_weight=None, subsample=None,\n",
       "                                     tree_method=None,\n",
       "                                     validate_parameters=False,\n",
       "                                     verbosity=None),\n",
       "             iid='deprecated', n_jobs=None,\n",
       "             param_grid=[{'colsample_bytree': [0.7, 0.8, 0.9],\n",
       "                          'learning_rate': [0.01, 0.1, 0.2],\n",
       "                          'max_depth': [5, 7]}],\n",
       "             pre_dispatch='2*n_jobs', refit=True, return_train_score=False,\n",
       "             scoring='recall', verbose=1)"
      ]
     },
     "execution_count": 19,
     "metadata": {},
     "output_type": "execute_result"
    }
   ],
   "source": [
    "from sklearn.model_selection import GridSearchCV\n",
    "\n",
    "parametros = [{'learning_rate':[0.01,0.1,0.2],\n",
    "                'max_depth':[5,7],\n",
    "                'colsample_bytree':[0.7,0.8,0.9]}]\n",
    "\n",
    "xgboost = xgb.XGBClassifier(objective ='reg:logistic', n_estimators = 100,random_state=0)\n",
    "\n",
    "grid_search =  GridSearchCV(xgboost,parametros,scoring='recall',cv=4,verbose=1)\n",
    "\n",
    "grid_search.fit(x_treino,y_treino)"
   ]
  },
  {
   "cell_type": "code",
   "execution_count": 20,
   "metadata": {},
   "outputs": [
    {
     "data": {
      "text/plain": [
       "{'colsample_bytree': 0.8, 'learning_rate': 0.2, 'max_depth': 7}"
      ]
     },
     "execution_count": 20,
     "metadata": {},
     "output_type": "execute_result"
    }
   ],
   "source": [
    "#Melhores hiperparametros\n",
    "grid_search.best_params_"
   ]
  },
  {
   "cell_type": "markdown",
   "metadata": {},
   "source": [
    "# LGBM"
   ]
  },
  {
   "cell_type": "code",
   "execution_count": 21,
   "metadata": {},
   "outputs": [
    {
     "name": "stdout",
     "output_type": "stream",
     "text": [
      "recall: 0.5990990990990991\n",
      "accuracy: 0.7998733375554148\n",
      "---------------------------------------------\n",
      "[[26390  6547]\n",
      " [   89   133]]\n",
      "---------------------------------------------\n",
      "              precision    recall  f1-score   support\n",
      "\n",
      "           0       1.00      0.80      0.89     32937\n",
      "           1       0.02      0.60      0.04       222\n",
      "\n",
      "    accuracy                           0.80     33159\n",
      "   macro avg       0.51      0.70      0.46     33159\n",
      "weighted avg       0.99      0.80      0.88     33159\n",
      "\n"
     ]
    }
   ],
   "source": [
    "from skopt import dummy_minimize\n",
    "import lightgbm as lgb   \n",
    "gradient = lgb.LGBMClassifier(learning_rate=0.09955911573844406 #resultado do randomsearch\n",
    "                             ,colsample_bytree=0.7472177953903952  #resultado do randomsearch\n",
    "                             ,max_depth=6  #resultado do randomsearch\n",
    "                             ,n_estimators=176  #resultado do randomsearch\n",
    "                              ,random_state=0\n",
    "                                )\n",
    "gradient.fit(x_treino,y_treino)\n",
    "previsoes = gradient.predict(x_teste)\n",
    "print('recall:' , recall_score(previsoes,y_teste))\n",
    "print('accuracy:' , accuracy_score(previsoes,y_teste))\n",
    "print('---------------------------------------------')\n",
    "print(confusion_matrix(previsoes,y_teste))\n",
    "print('---------------------------------------------')\n",
    "print(classification_report(previsoes,y_teste))"
   ]
  },
  {
   "cell_type": "markdown",
   "metadata": {},
   "source": [
    "# Tuning Hiperparâmetros - Random Search - LGBM\n",
    "Ao invés de tentar todas as combinações possíveis como o Gridsearch ela seleciona o valor aleatório para o hiperparametro e vai testando aleatoriamente as combinações o random search vai executar o número de iterações definido pelo usuário e no final terá como saida os melhores hiperparametros dessa busca aleatoria em n iterações"
   ]
  },
  {
   "cell_type": "code",
   "execution_count": 22,
   "metadata": {},
   "outputs": [
    {
     "name": "stdout",
     "output_type": "stream",
     "text": [
      "Iteration No: 1 started. Evaluating function at random point.\n",
      "[0.09871192514273254, 0.8865114718677318, 6, 175] \n",
      "\n",
      "Iteration No: 1 ended. Evaluation done at random point.\n",
      "Time taken: 1.3855\n",
      "Function value obtained: -0.0215\n",
      "Current minimum: -0.0215\n",
      "Iteration No: 2 started. Evaluating function at random point.\n",
      "[0.09955911573844406, 0.7472177953903952, 6, 176] \n",
      "\n",
      "Iteration No: 2 ended. Evaluation done at random point.\n",
      "Time taken: 1.3944\n",
      "Function value obtained: -0.0235\n",
      "Current minimum: -0.0235\n",
      "Iteration No: 3 started. Evaluating function at random point.\n",
      "[0.0059678992438367785, 0.833949207360696, 6, 150] \n",
      "\n",
      "Iteration No: 3 ended. Evaluation done at random point.\n",
      "Time taken: 2.1605\n",
      "Function value obtained: -0.0000\n",
      "Current minimum: -0.0235\n",
      "Iteration No: 4 started. Evaluating function at random point.\n",
      "[0.049274455443298865, 0.762654703386455, 9, 111] \n",
      "\n",
      "Iteration No: 4 ended. Evaluation done at random point.\n",
      "Time taken: 1.2026\n",
      "Function value obtained: -0.0061\n",
      "Current minimum: -0.0235\n",
      "Iteration No: 5 started. Evaluating function at random point.\n",
      "[0.007707362534461022, 0.7459154427459651, 7, 168] \n",
      "\n",
      "Iteration No: 5 ended. Evaluation done at random point.\n",
      "Time taken: 1.7807\n",
      "Function value obtained: -0.0000\n",
      "Current minimum: -0.0235\n",
      "Iteration No: 6 started. Evaluating function at random point.\n",
      "[0.006832971428089611, 0.8117379656891504, 5, 186] \n",
      "\n",
      "Iteration No: 6 ended. Evaluation done at random point.\n",
      "Time taken: 2.2238\n",
      "Function value obtained: -0.0000\n",
      "Current minimum: -0.0235\n",
      "Iteration No: 7 started. Evaluating function at random point.\n",
      "[0.039947456945609174, 0.8936523151438795, 6, 101] \n",
      "\n",
      "Iteration No: 7 ended. Evaluation done at random point.\n",
      "Time taken: 1.2362\n",
      "Function value obtained: -0.0043\n",
      "Current minimum: -0.0235\n",
      "Iteration No: 8 started. Evaluating function at random point.\n",
      "[0.0537081884337239, 0.8658293814734284, 5, 113] \n",
      "\n",
      "Iteration No: 8 ended. Evaluation done at random point.\n",
      "Time taken: 1.0594\n",
      "Function value obtained: -0.0056\n",
      "Current minimum: -0.0235\n",
      "Iteration No: 9 started. Evaluating function at random point.\n",
      "[0.0035164135787908194, 0.7118486402603127, 5, 130] \n",
      "\n",
      "Iteration No: 9 ended. Evaluation done at random point.\n",
      "Time taken: 1.4642\n",
      "Function value obtained: -0.0000\n",
      "Current minimum: -0.0235\n",
      "Iteration No: 10 started. Evaluating function at random point.\n",
      "[0.01535080081765723, 0.8343308194844269, 6, 157] \n",
      "\n",
      "Iteration No: 10 ended. Evaluation done at random point.\n",
      "Time taken: 1.5215\n",
      "Function value obtained: -0.0013\n",
      "Current minimum: -0.0235\n",
      "Iteration No: 11 started. Evaluating function at random point.\n",
      "[0.002483715204721354, 0.7579259281091625, 8, 176] \n",
      "\n",
      "Iteration No: 11 ended. Evaluation done at random point.\n",
      "Time taken: 1.7136\n",
      "Function value obtained: -0.0000\n",
      "Current minimum: -0.0235\n",
      "Iteration No: 12 started. Evaluating function at random point.\n",
      "[0.036866248434672594, 0.7825077683006052, 8, 141] \n",
      "\n",
      "Iteration No: 12 ended. Evaluation done at random point.\n",
      "Time taken: 1.3274\n",
      "Function value obtained: -0.0071\n",
      "Current minimum: -0.0235\n",
      "Iteration No: 13 started. Evaluating function at random point.\n",
      "[0.017703534145539608, 0.8321271460476006, 6, 198] \n",
      "\n",
      "Iteration No: 13 ended. Evaluation done at random point.\n",
      "Time taken: 1.8846\n",
      "Function value obtained: -0.0031\n",
      "Current minimum: -0.0235\n",
      "Iteration No: 14 started. Evaluating function at random point.\n",
      "[0.037892970949022504, 0.7206452013155283, 5, 122] \n",
      "\n",
      "Iteration No: 14 ended. Evaluation done at random point.\n",
      "Time taken: 1.1758\n",
      "Function value obtained: -0.0040\n",
      "Current minimum: -0.0235\n",
      "Iteration No: 15 started. Evaluating function at random point.\n",
      "[0.06564339077069616, 0.7587228296747359, 9, 127] \n",
      "\n",
      "Iteration No: 15 ended. Evaluation done at random point.\n",
      "Time taken: 1.2337\n",
      "Function value obtained: -0.0122\n",
      "Current minimum: -0.0235\n",
      "Iteration No: 16 started. Evaluating function at random point.\n",
      "[0.0010932863245635557, 0.8357671065879781, 5, 132] \n",
      "\n",
      "Iteration No: 16 ended. Evaluation done at random point.\n",
      "Time taken: 1.2700\n",
      "Function value obtained: -0.0000\n",
      "Current minimum: -0.0235\n",
      "Iteration No: 17 started. Evaluating function at random point.\n",
      "[0.003396982571910352, 0.7983146318560677, 6, 171] \n",
      "\n",
      "Iteration No: 17 ended. Evaluation done at random point.\n",
      "Time taken: 1.7397\n",
      "Function value obtained: -0.0000\n",
      "Current minimum: -0.0235\n",
      "Iteration No: 18 started. Evaluating function at random point.\n",
      "[0.001965428049686461, 0.8178611073806569, 5, 188] \n",
      "\n",
      "Iteration No: 18 ended. Evaluation done at random point.\n",
      "Time taken: 1.6712\n",
      "Function value obtained: -0.0000\n",
      "Current minimum: -0.0235\n",
      "Iteration No: 19 started. Evaluating function at random point.\n",
      "[0.011665328715255016, 0.889987627706528, 8, 100] \n",
      "\n",
      "Iteration No: 19 ended. Evaluation done at random point.\n",
      "Time taken: 1.0987\n",
      "Function value obtained: -0.0000\n",
      "Current minimum: -0.0235\n",
      "Iteration No: 20 started. Evaluating function at random point.\n",
      "[0.001258655615886614, 0.8071792811831023, 9, 185] \n",
      "\n",
      "Iteration No: 20 ended. Evaluation done at random point.\n",
      "Time taken: 1.7904\n",
      "Function value obtained: -0.0000\n",
      "Current minimum: -0.0235\n",
      "Iteration No: 21 started. Evaluating function at random point.\n",
      "[0.010709722651874276, 0.8889189511981628, 8, 107] \n",
      "\n",
      "Iteration No: 21 ended. Evaluation done at random point.\n",
      "Time taken: 1.1577\n",
      "Function value obtained: -0.0000\n",
      "Current minimum: -0.0235\n",
      "Iteration No: 22 started. Evaluating function at random point.\n",
      "[0.012066362801915467, 0.7895960362840836, 8, 120] \n",
      "\n",
      "Iteration No: 22 ended. Evaluation done at random point.\n",
      "Time taken: 1.3483\n",
      "Function value obtained: -0.0000\n",
      "Current minimum: -0.0235\n",
      "Iteration No: 23 started. Evaluating function at random point.\n",
      "[0.0056907391928185695, 0.807684938855997, 9, 157] \n",
      "\n",
      "Iteration No: 23 ended. Evaluation done at random point.\n",
      "Time taken: 1.5915\n",
      "Function value obtained: -0.0000\n",
      "Current minimum: -0.0235\n",
      "Iteration No: 24 started. Evaluating function at random point.\n",
      "[0.004960571565137327, 0.8501624206272311, 7, 123] \n",
      "\n",
      "Iteration No: 24 ended. Evaluation done at random point.\n",
      "Time taken: 1.2758\n",
      "Function value obtained: -0.0000\n",
      "Current minimum: -0.0235\n",
      "Iteration No: 25 started. Evaluating function at random point.\n",
      "[0.024010940718920456, 0.8295498799546696, 5, 174] \n",
      "\n",
      "Iteration No: 25 ended. Evaluation done at random point.\n",
      "Time taken: 1.5438\n",
      "Function value obtained: -0.0031\n",
      "Current minimum: -0.0235\n",
      "Iteration No: 26 started. Evaluating function at random point.\n",
      "[0.033609813720026825, 0.771306344711611, 6, 194] \n",
      "\n",
      "Iteration No: 26 ended. Evaluation done at random point.\n",
      "Time taken: 1.6808\n",
      "Function value obtained: -0.0092\n",
      "Current minimum: -0.0235\n",
      "Iteration No: 27 started. Evaluating function at random point.\n",
      "[0.057900679339809843, 0.7023338387361787, 8, 197] \n",
      "\n",
      "Iteration No: 27 ended. Evaluation done at random point.\n",
      "Time taken: 1.5708\n",
      "Function value obtained: -0.0194\n",
      "Current minimum: -0.0235\n",
      "Iteration No: 28 started. Evaluating function at random point.\n",
      "[0.001404701424382903, 0.857390294893815, 7, 110] \n",
      "\n",
      "Iteration No: 28 ended. Evaluation done at random point.\n",
      "Time taken: 1.1513\n",
      "Function value obtained: -0.0000\n",
      "Current minimum: -0.0235\n",
      "Iteration No: 29 started. Evaluating function at random point.\n",
      "[0.005135949263684475, 0.8883673897506845, 7, 171] \n",
      "\n",
      "Iteration No: 29 ended. Evaluation done at random point.\n",
      "Time taken: 1.6942\n",
      "Function value obtained: -0.0000\n",
      "Current minimum: -0.0235\n",
      "Iteration No: 30 started. Evaluating function at random point.\n",
      "[0.03492930915544883, 0.7602720990819787, 6, 142] \n",
      "\n",
      "Iteration No: 30 ended. Evaluation done at random point.\n",
      "Time taken: 1.6089\n",
      "Function value obtained: -0.0056\n",
      "Current minimum: -0.0235\n"
     ]
    }
   ],
   "source": [
    "from skopt import dummy_minimize\n",
    "from lightgbm import LGBMClassifier\n",
    "def treinar_modelo(params):\n",
    "    learning_rate = params[0]\n",
    "    colsample_bytree = params[1]\n",
    "    max_depth = params[2]\n",
    "    n_estimators= params[3]\n",
    "    \n",
    "    print(params, '\\n')\n",
    "    \n",
    "    modelo = LGBMClassifier(learning_rate=learning_rate\n",
    "                         ,colsample_bytree=colsample_bytree\n",
    "                         ,max_depth=max_depth\n",
    "                         ,n_estimators=n_estimators,random_state = 0)\n",
    "    modelo.fit(x_treino, y_treino)\n",
    "    \n",
    "    previsoes = modelo.predict(x_treino)\n",
    "    \n",
    "    return -recall_score(y_treino, previsoes,average=\"binary\")\n",
    "\n",
    "space = [(1e-3, 1e-1, 'log-uniform'), #learning rate\n",
    "         (0.7,0.9),#colsample_bytree\n",
    "         (5,9), #max_depth\n",
    "         (100, 200)] #n_estimators\n",
    "\n",
    "resultado = dummy_minimize(treinar_modelo, space, random_state=1, verbose=1, n_calls=30)"
   ]
  },
  {
   "cell_type": "code",
   "execution_count": 23,
   "metadata": {},
   "outputs": [
    {
     "data": {
      "text/plain": [
       "[0.09955911573844406, 0.7472177953903952, 6, 176]"
      ]
     },
     "execution_count": 23,
     "metadata": {},
     "output_type": "execute_result"
    }
   ],
   "source": [
    "resultado.x"
   ]
  },
  {
   "cell_type": "code",
   "execution_count": 24,
   "metadata": {},
   "outputs": [
    {
     "name": "stdout",
     "output_type": "stream",
     "text": [
      "('Age', 1065)\n",
      "('Appointment_Month', 159)\n",
      "('Appointment_Year', 0)\n",
      "('Scheduled_Year', 16)\n",
      "('DeltaScheduleAppointment_Days', 1078)\n",
      "('Scheduled_Month', 195)\n",
      "('Gender_F', 169)\n",
      "('Gender_M', 73)\n",
      "('Scholarship', 92)\n",
      "('Hipertension', 134)\n",
      "('Diabetes', 85)\n",
      "('Alcoholism', 66)\n",
      "('Handcap_0.0', 66)\n",
      "('Handcap_1.0', 29)\n",
      "('Handcap_2.0', 28)\n",
      "('Handcap_3.0', 0)\n",
      "('Handcap_4.0', 0)\n",
      "('SMS_received', 92)\n",
      "('Scheduled_WeekDay_Friday', 105)\n",
      "('Scheduled_WeekDay_Wednesday', 97)\n",
      "('Scheduled_WeekDay_Tuesday', 124)\n",
      "('Scheduled_WeekDay_Thursday', 91)\n",
      "('Scheduled_WeekDay_Monday', 104)\n",
      "('Scheduled_WeekDay_Saturday', 0)\n",
      "('Appointment_WeekDay_Friday', 51)\n",
      "('Appointment_WeekDay_Tuesday', 100)\n",
      "('Appointment_WeekDay_Monday', 87)\n",
      "('Appointment_WeekDay_Wednesday', 73)\n",
      "('Appointment_WeekDay_Thursday', 74)\n",
      "('Appointment_WeekDay_Saturday', 2)\n",
      "('fx_etaria_60-70', 33)\n",
      "('fx_etaria_50-60', 39)\n",
      "('fx_etaria_0-10', 14)\n",
      "('fx_etaria_>70', 24)\n",
      "('fx_etaria_20-30', 33)\n",
      "('fx_etaria_30-40', 41)\n",
      "('fx_etaria_10-20', 54)\n",
      "('fx_etaria_40-50', 39)\n"
     ]
    }
   ],
   "source": [
    "#Visulaizando feature_importance\n",
    "feature_lgbm = []\n",
    "for feature_lgbm in zip(x_treino, gradient.feature_importances_):\n",
    "    print(feature_lgbm)"
   ]
  },
  {
   "cell_type": "markdown",
   "metadata": {},
   "source": [
    "# Feature Selection - LGBM"
   ]
  },
  {
   "cell_type": "code",
   "execution_count": 25,
   "metadata": {},
   "outputs": [
    {
     "name": "stderr",
     "output_type": "stream",
     "text": [
      "/opt/conda/lib/python3.6/site-packages/sklearn/metrics/_classification.py:1272: UndefinedMetricWarning: Recall is ill-defined and being set to 0.0 due to no true samples. Use `zero_division` parameter to control this behavior.\n",
      "  _warn_prf(average, modifier, msg_start, len(result))\n"
     ]
    },
    {
     "name": "stdout",
     "output_type": "stream",
     "text": [
      "Thresh=1078.000, n=1, Recall:0.00%, Accuracy: 79.85%\n",
      "Thresh=1065.000, n=2, Recall:20.00%, Accuracy: 79.84%\n",
      "Thresh=195.000, n=3, Recall:25.00%, Accuracy: 79.84%\n",
      "Thresh=169.000, n=4, Recall:45.83%, Accuracy: 79.85%\n",
      "Thresh=159.000, n=5, Recall:41.38%, Accuracy: 79.84%\n",
      "Thresh=134.000, n=6, Recall:25.00%, Accuracy: 79.84%\n",
      "Thresh=124.000, n=7, Recall:46.88%, Accuracy: 79.85%\n",
      "Thresh=105.000, n=8, Recall:44.12%, Accuracy: 79.84%\n",
      "Thresh=104.000, n=9, Recall:40.74%, Accuracy: 79.84%\n",
      "Thresh=100.000, n=10, Recall:47.73%, Accuracy: 79.85%\n",
      "Thresh=97.000, n=11, Recall:56.52%, Accuracy: 79.87%\n",
      "Thresh=92.000, n=13, Recall:54.76%, Accuracy: 79.89%\n",
      "Thresh=92.000, n=13, Recall:54.76%, Accuracy: 79.89%\n",
      "Thresh=91.000, n=14, Recall:54.25%, Accuracy: 79.89%\n",
      "Thresh=87.000, n=15, Recall:54.07%, Accuracy: 79.90%\n",
      "Thresh=85.000, n=16, Recall:53.47%, Accuracy: 79.88%\n",
      "Thresh=74.000, n=17, Recall:52.27%, Accuracy: 79.88%\n",
      "Thresh=73.000, n=19, Recall:54.73%, Accuracy: 79.90%\n",
      "Thresh=73.000, n=19, Recall:54.73%, Accuracy: 79.90%\n",
      "Thresh=66.000, n=21, Recall:60.12%, Accuracy: 79.95%\n",
      "Thresh=66.000, n=21, Recall:60.12%, Accuracy: 79.95%\n",
      "Thresh=54.000, n=22, Recall:55.39%, Accuracy: 79.92%\n",
      "Thresh=51.000, n=23, Recall:60.00%, Accuracy: 79.99%\n",
      "Thresh=41.000, n=24, Recall:57.26%, Accuracy: 79.96%\n",
      "Thresh=39.000, n=26, Recall:61.19%, Accuracy: 79.99%\n",
      "Thresh=39.000, n=26, Recall:61.19%, Accuracy: 79.99%\n",
      "Thresh=33.000, n=28, Recall:61.35%, Accuracy: 80.00%\n",
      "Thresh=33.000, n=28, Recall:61.35%, Accuracy: 80.00%\n",
      "Thresh=29.000, n=29, Recall:61.33%, Accuracy: 80.01%\n",
      "Thresh=28.000, n=30, Recall:58.26%, Accuracy: 79.97%\n",
      "Thresh=24.000, n=31, Recall:59.91%, Accuracy: 79.99%\n",
      "Thresh=16.000, n=32, Recall:62.37%, Accuracy: 80.00%\n",
      "Thresh=14.000, n=33, Recall:59.41%, Accuracy: 79.99%\n",
      "Thresh=2.000, n=34, Recall:59.91%, Accuracy: 79.99%\n",
      "Thresh=0.000, n=38, Recall:59.91%, Accuracy: 79.99%\n",
      "Thresh=0.000, n=38, Recall:59.91%, Accuracy: 79.99%\n",
      "Thresh=0.000, n=38, Recall:59.91%, Accuracy: 79.99%\n",
      "Thresh=0.000, n=38, Recall:59.91%, Accuracy: 79.99%\n"
     ]
    }
   ],
   "source": [
    "from sklearn.feature_selection import SelectFromModel\n",
    "\n",
    "#Treinando o modelo usando as features mais importantes\n",
    "thresholds = sorted(gradient.feature_importances_,reverse=True) #ordenando as features com mais poder \n",
    "\n",
    "for thresh in thresholds:\n",
    "    selection = SelectFromModel(gradient, threshold=thresh, prefit=True)\n",
    "    select_x_treino = selection.transform(x_treino)\n",
    "\n",
    "    #treinando o modelo\n",
    "    selection_model = lgb.LGBMClassifier(learning_rate=0.09955911573844406 #resultado do randomsearch\n",
    "                             ,colsample_bytree=0.7472177953903952  #resultado do randomsearch\n",
    "                             ,max_depth=6  #resultado do randomsearch\n",
    "                             ,n_estimators=176  #resultado do randomsearch\n",
    "                              ,random_state=0\n",
    "                                )\n",
    "    selection_model.fit(select_x_treino, y_treino)\n",
    "\n",
    "    #avaliando os modelos\n",
    "    select_x_teste = selection.transform(x_teste)\n",
    "    y_pred = selection_model.predict(select_x_teste)\n",
    "    previsoes= [round(value) for value in y_pred]\n",
    "    accuracy = accuracy_score(previsoes,y_teste)\n",
    "    recall = recall_score(previsoes,y_teste)\n",
    "    print(\"Thresh=%.3f, n=%d, Recall:%.2f%%, Accuracy: %.2f%%\" % (thresh, select_x_treino.shape[1]\n",
    "                                                                 ,recall*100.0, accuracy*100.0))"
   ]
  },
  {
   "cell_type": "markdown",
   "metadata": {},
   "source": [
    "# Bagging \n",
    "Algoritmo baseado em árvores de decisão na qual ele faz a amostragem com repetição (bootstrap) nas instâncias onde cada conjunto de amostras resultará em um modelo diferente, sendo que a previsão final será estimada baseada em hard voting, nesse desafio como estamos tratando de um problema de classificação o valor estimado será baseada na frequencia em relação a previsão de todas arvores de decisão criadas"
   ]
  },
  {
   "cell_type": "code",
   "execution_count": 26,
   "metadata": {},
   "outputs": [
    {
     "name": "stdout",
     "output_type": "stream",
     "text": [
      "recall: 0.3610607434270172\n",
      "accuracy: 0.7615730269308484\n",
      "---------------------------------------------\n",
      "[[23660  5087]\n",
      " [ 2819  1593]]\n",
      "---------------------------------------------\n",
      "              precision    recall  f1-score   support\n",
      "\n",
      "           0       0.89      0.82      0.86     28747\n",
      "           1       0.24      0.36      0.29      4412\n",
      "\n",
      "    accuracy                           0.76     33159\n",
      "   macro avg       0.57      0.59      0.57     33159\n",
      "weighted avg       0.81      0.76      0.78     33159\n",
      "\n"
     ]
    }
   ],
   "source": [
    "from sklearn.ensemble import BaggingClassifier\n",
    "from sklearn.tree import DecisionTreeClassifier\n",
    "from sklearn.metrics import recall_score,accuracy_score,classification_report,confusion_matrix\n",
    "\n",
    "modelo = BaggingClassifier(bootstrap=True,n_jobs = -1,n_estimators=100)\n",
    "modelo.fit(x_treino,y_treino)\n",
    "previsoes = modelo.predict(x_teste)\n",
    "print('recall:' , recall_score(previsoes,y_teste))\n",
    "print('accuracy:' , accuracy_score(previsoes,y_teste))\n",
    "print('---------------------------------------------')\n",
    "print(confusion_matrix(previsoes,y_teste))\n",
    "print('---------------------------------------------')\n",
    "print(classification_report(previsoes,y_teste))"
   ]
  },
  {
   "cell_type": "markdown",
   "metadata": {},
   "source": [
    "# Random Forest\n",
    "Geralmente é um algoritmo de bagging ou pasting com max_sample ajustada para o número de instancias do meu dataframe,ou seja irá utilizar todas as linhas do dataframe.Além disso, possui uma aleatoriedade nas caracteristicas selecionadas,ou seja para cada árvore de decisão é selecionada um subconjunto de caracteristicas/feautures.Logo nem todas minhas árvores vão ser iguais"
   ]
  },
  {
   "cell_type": "code",
   "execution_count": 27,
   "metadata": {},
   "outputs": [
    {
     "name": "stdout",
     "output_type": "stream",
     "text": [
      "recall: 0.0\n",
      "accuracy: 0.7985463976597605\n",
      "---------------------------------------------\n",
      "[[26479  6680]\n",
      " [    0     0]]\n",
      "---------------------------------------------\n",
      "              precision    recall  f1-score   support\n",
      "\n",
      "           0       1.00      0.80      0.89     33159\n",
      "           1       0.00      0.00      0.00         0\n",
      "\n",
      "    accuracy                           0.80     33159\n",
      "   macro avg       0.50      0.40      0.44     33159\n",
      "weighted avg       1.00      0.80      0.89     33159\n",
      "\n"
     ]
    },
    {
     "name": "stderr",
     "output_type": "stream",
     "text": [
      "/opt/conda/lib/python3.6/site-packages/sklearn/metrics/_classification.py:1272: UndefinedMetricWarning: Recall is ill-defined and being set to 0.0 due to no true samples. Use `zero_division` parameter to control this behavior.\n",
      "  _warn_prf(average, modifier, msg_start, len(result))\n",
      "/opt/conda/lib/python3.6/site-packages/sklearn/metrics/_classification.py:1272: UndefinedMetricWarning: Recall and F-score are ill-defined and being set to 0.0 in labels with no true samples. Use `zero_division` parameter to control this behavior.\n",
      "  _warn_prf(average, modifier, msg_start, len(result))\n"
     ]
    }
   ],
   "source": [
    "from sklearn.ensemble import RandomForestClassifier\n",
    "from sklearn.metrics import recall_score,accuracy_score,classification_report,confusion_matrix\n",
    "\n",
    "modelo = RandomForestClassifier(max_depth=5, random_state=0,n_estimators=100)\n",
    "modelo.fit(x_treino,y_treino)\n",
    "previsoes = modelo.predict(x_teste)\n",
    "print('recall:' , recall_score(previsoes,y_teste))\n",
    "print('accuracy:' , accuracy_score(previsoes,y_teste))\n",
    "print('---------------------------------------------')\n",
    "print(confusion_matrix(previsoes,y_teste))\n",
    "print('---------------------------------------------')\n",
    "print(classification_report(previsoes,y_teste))"
   ]
  },
  {
   "cell_type": "markdown",
   "metadata": {},
   "source": [
    "# Regressão logistica"
   ]
  },
  {
   "cell_type": "code",
   "execution_count": 28,
   "metadata": {},
   "outputs": [
    {
     "name": "stdout",
     "output_type": "stream",
     "text": [
      "recall: 0.64\n",
      "accuracy: 0.7987575017340692\n",
      "---------------------------------------------\n",
      "[[26470  6664]\n",
      " [    9    16]]\n",
      "---------------------------------------------\n",
      "              precision    recall  f1-score   support\n",
      "\n",
      "           0       1.00      0.80      0.89     33134\n",
      "           1       0.00      0.64      0.00        25\n",
      "\n",
      "    accuracy                           0.80     33159\n",
      "   macro avg       0.50      0.72      0.45     33159\n",
      "weighted avg       1.00      0.80      0.89     33159\n",
      "\n"
     ]
    }
   ],
   "source": [
    "from sklearn.linear_model import LogisticRegression\n",
    "from sklearn.metrics import recall_score,accuracy_score,classification_report,confusion_matrix\n",
    "\n",
    "modelo = LogisticRegression(random_state=0,solver='liblinear',penalty='l1')\n",
    "modelo.fit(x_treino,y_treino)\n",
    "previsoes = modelo.predict(x_teste)\n",
    "print('recall:' , recall_score(previsoes,y_teste))\n",
    "print('accuracy:' , accuracy_score(previsoes,y_teste))\n",
    "print('---------------------------------------------')\n",
    "print(confusion_matrix(previsoes,y_teste))\n",
    "print('---------------------------------------------')\n",
    "print(classification_report(previsoes,y_teste))"
   ]
  },
  {
   "cell_type": "markdown",
   "metadata": {},
   "source": [
    "# Algoritmo final"
   ]
  },
  {
   "cell_type": "code",
   "execution_count": 29,
   "metadata": {},
   "outputs": [
    {
     "data": {
      "text/html": [
       "<div>\n",
       "<style scoped>\n",
       "    .dataframe tbody tr th:only-of-type {\n",
       "        vertical-align: middle;\n",
       "    }\n",
       "\n",
       "    .dataframe tbody tr th {\n",
       "        vertical-align: top;\n",
       "    }\n",
       "\n",
       "    .dataframe thead th {\n",
       "        text-align: right;\n",
       "    }\n",
       "</style>\n",
       "<table border=\"1\" class=\"dataframe\">\n",
       "  <thead>\n",
       "    <tr style=\"text-align: right;\">\n",
       "      <th></th>\n",
       "      <th>index</th>\n",
       "      <th>columns</th>\n",
       "      <th>importances</th>\n",
       "    </tr>\n",
       "  </thead>\n",
       "  <tbody>\n",
       "    <tr>\n",
       "      <th>0</th>\n",
       "      <td>4</td>\n",
       "      <td>DeltaScheduleAppointment_Days</td>\n",
       "      <td>1078</td>\n",
       "    </tr>\n",
       "    <tr>\n",
       "      <th>1</th>\n",
       "      <td>0</td>\n",
       "      <td>Age</td>\n",
       "      <td>1065</td>\n",
       "    </tr>\n",
       "    <tr>\n",
       "      <th>2</th>\n",
       "      <td>5</td>\n",
       "      <td>Scheduled_Month</td>\n",
       "      <td>195</td>\n",
       "    </tr>\n",
       "  </tbody>\n",
       "</table>\n",
       "</div>"
      ],
      "text/plain": [
       "   index                        columns  importances\n",
       "0      4  DeltaScheduleAppointment_Days         1078\n",
       "1      0                            Age         1065\n",
       "2      5                Scheduled_Month          195"
      ]
     },
     "execution_count": 29,
     "metadata": {},
     "output_type": "execute_result"
    }
   ],
   "source": [
    "#transformando o feature inportance do modelo LGBM em um dataframe\n",
    "results=pd.DataFrame()\n",
    "results['columns']=x_treino.columns\n",
    "results['importances'] = gradient.feature_importances_\n",
    "results.sort_values(by='importances',ascending=False,inplace=True)\n",
    "results.reset_index().head(3)"
   ]
  },
  {
   "cell_type": "code",
   "execution_count": 30,
   "metadata": {},
   "outputs": [],
   "source": [
    "x_treino, x_teste, y_treino, y_teste = train_test_split(x,y,test_size=0.3,random_state=1)\n",
    "#Cortando as features de acordo com os modelos rodados na etapa feautre selection com lgbm\n",
    "features_final = results.iloc[:31,0] #Resultado com feature selection \n",
    "\n",
    "#redefinindo x_treino e x_teste\n",
    "x_treino = x_treino.loc[:,features_final]\n",
    "x_teste = x_teste.loc[:,features_final]"
   ]
  },
  {
   "cell_type": "code",
   "execution_count": 31,
   "metadata": {},
   "outputs": [
    {
     "name": "stdout",
     "output_type": "stream",
     "text": [
      "Resultado final:\n",
      "----------------------------------------\n",
      "Dos exemplos que são noshow positivo qual a porcetangem de acerto do modelo?\n",
      "recall final: 61.199999999999996\n",
      "----------------------------------------\n",
      "Porcentagem de acerto da minhas observações?\n",
      "accuracy final: 80.02352302542296\n"
     ]
    }
   ],
   "source": [
    "#Reaplicado o algoritimo\n",
    "gradient = lgb.LGBMClassifier(learning_rate=0.09955911573844406 #resultado do randomsearch\n",
    "                             ,colsample_bytree=0.7472177953903952  #resultado do randomsearch\n",
    "                             ,max_depth=6  #resultado do randomsearch\n",
    "                             ,n_estimators=176  #resultado do randomsearch\n",
    "                              ,random_state=0\n",
    "                                )\n",
    "gradient.fit(x_treino,y_treino)\n",
    "previsoes = gradient.predict(x_teste)\n",
    "print('Resultado final:')\n",
    "print('----------------------------------------')\n",
    "print('Dos exemplos que são noshow positivo qual a porcetangem de acerto do modelo?')\n",
    "print('recall final:' , recall_score(previsoes,y_teste)*100)\n",
    "print('----------------------------------------')\n",
    "print('Porcentagem de acerto da minhas observações?')\n",
    "print('accuracy final:', accuracy_score(previsoes,y_teste)*100)\n"
   ]
  }
 ],
 "metadata": {
  "kernelspec": {
   "display_name": "Python 3",
   "language": "python",
   "name": "python3"
  },
  "language_info": {
   "codemirror_mode": {
    "name": "ipython",
    "version": 3
   },
   "file_extension": ".py",
   "mimetype": "text/x-python",
   "name": "python",
   "nbconvert_exporter": "python",
   "pygments_lexer": "ipython3",
   "version": "3.6.6"
  }
 },
 "nbformat": 4,
 "nbformat_minor": 4
}
