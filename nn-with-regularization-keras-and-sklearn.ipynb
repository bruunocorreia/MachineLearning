{
 "cells": [
  {
   "cell_type": "markdown",
   "execution_count": null,
   "metadata": {},
   "source": [
    "# Try using Keras"
   ]
  },
  {
   "cell_type": "markdown",
   "execution_count": null,
   "metadata": {},
   "source": [
    "### Imports"
   ]
  },
  {
   "cell_type": "code",
   "execution_count": 1,
   "metadata": {
    "_cell_guid": "b1076dfc-b9ad-4769-8c92-a6c4dae69d19",
    "_uuid": "8f2839f25d086af736a60e9eeb907d3b93b6e0e5"
   },
   "outputs": [
    {
     "name": "stderr",
     "output_type": "stream",
     "text": [
      "Using TensorFlow backend.\n"
     ]
    }
   ],
   "source": [
    "from keras.utils import to_categorical\n",
    "import numpy as np\n",
    "import pandas as pd\n",
    "import matplotlib.pyplot as plt\n",
    "from sklearn.model_selection import train_test_split\n",
    "from sklearn.metrics import classification_report,accuracy_score\n",
    "from keras.models import Sequential\n",
    "from keras.layers import Dense\n",
    "from keras.regularizers import l2"
   ]
  },
  {
   "cell_type": "markdown",
   "execution_count": null,
   "metadata": {},
   "source": [
    "### Read the dataframe"
   ]
  },
  {
   "cell_type": "code",
   "execution_count": 2,
   "metadata": {
    "_cell_guid": "79c7e3d0-c299-4dcb-8224-4455121ee9b0",
    "_uuid": "d629ff2d2480ee46fbb7e2d37f6b5fab8052498a"
   },
   "outputs": [],
   "source": [
    "train = pd.read_csv('../input/fashionmnist/fashion-mnist_train.csv')\n",
    "test= pd.read_csv('../input/fashionmnist/fashion-mnist_test.csv')"
   ]
  },
  {
   "cell_type": "code",
   "execution_count": 3,
   "metadata": {},
   "outputs": [],
   "source": [
    "#Define the target and the features\n",
    "x_train = train.drop(columns=['label'])\n",
    "y_train = train.label\n",
    "\n",
    "x_test = test.drop(columns=['label'])\n",
    "y_test = test.label"
   ]
  },
  {
   "cell_type": "code",
   "execution_count": 4,
   "metadata": {},
   "outputs": [
    {
     "data": {
      "text/plain": [
       "((60000,), (10000,))"
      ]
     },
     "execution_count": 4,
     "metadata": {},
     "output_type": "execute_result"
    }
   ],
   "source": [
    "#Print the shape of target\n",
    "y_train.shape , y_test.shape"
   ]
  },
  {
   "cell_type": "code",
   "execution_count": 5,
   "metadata": {},
   "outputs": [
    {
     "data": {
      "text/plain": [
       "[2, 9, 6, 0, 3, 4, 5, 8, 7, 1]"
      ]
     },
     "execution_count": 5,
     "metadata": {},
     "output_type": "execute_result"
    }
   ],
   "source": [
    "#Print the number of class in the train target\n",
    "list(y_train.unique())"
   ]
  },
  {
   "cell_type": "code",
   "execution_count": 6,
   "metadata": {},
   "outputs": [
    {
     "data": {
      "text/plain": [
       "[0, 1, 2, 3, 8, 6, 5, 4, 7, 9]"
      ]
     },
     "execution_count": 6,
     "metadata": {},
     "output_type": "execute_result"
    }
   ],
   "source": [
    "#Print the number of class in the test target\n",
    "list(y_test.unique())"
   ]
  },
  {
   "cell_type": "markdown",
   "execution_count": null,
   "metadata": {},
   "source": [
    "### Scale Pixel image\n",
    "First off all, let's identify that the max number in pixel image\n",
    "\n",
    "So, after that I'll divide the target by this number to scale the target in this model"
   ]
  },
  {
   "cell_type": "code",
   "execution_count": 7,
   "metadata": {},
   "outputs": [
    {
     "data": {
      "text/plain": [
       "pixel392    255\n",
       "dtype: int64"
      ]
     },
     "execution_count": 7,
     "metadata": {},
     "output_type": "execute_result"
    }
   ],
   "source": [
    "x_train.max().sort_values().tail(1)"
   ]
  },
  {
   "cell_type": "code",
   "execution_count": 8,
   "metadata": {},
   "outputs": [
    {
     "data": {
      "text/plain": [
       "pixel396    255\n",
       "dtype: int64"
      ]
     },
     "execution_count": 8,
     "metadata": {},
     "output_type": "execute_result"
    }
   ],
   "source": [
    "x_test.max().sort_values().tail(1)"
   ]
  },
  {
   "cell_type": "code",
   "execution_count": 9,
   "metadata": {},
   "outputs": [],
   "source": [
    "#The max number is 255, so lets divide the target by this number\n",
    "x_train = x_train/255\n",
    "x_test = x_test/255"
   ]
  },
  {
   "cell_type": "markdown",
   "execution_count": null,
   "metadata": {},
   "source": [
    "### Transform features in float\n",
    "After scaling the target let's transform the feature in float in order to reduce the risk of It converting in integer number "
   ]
  },
  {
   "cell_type": "code",
   "execution_count": 10,
   "metadata": {},
   "outputs": [],
   "source": [
    "x_train = x_train.astype(float) \n",
    "x_test = x_test.astype(float)"
   ]
  },
  {
   "cell_type": "code",
   "execution_count": 11,
   "metadata": {},
   "outputs": [],
   "source": [
    "#Finally, lets get dummies of the target using the function presents in keras\n",
    "from keras.utils import to_categorical\n",
    "\n",
    "y_train = to_categorical(y_train,10) #10 levels of image\n",
    "y_test =  to_categorical(y_test,10) #10 levels of image"
   ]
  },
  {
   "cell_type": "markdown",
   "execution_count": null,
   "metadata": {},
   "source": [
    "### Applying Deep learning model to predict the image"
   ]
  },
  {
   "cell_type": "code",
   "execution_count": 12,
   "metadata": {},
   "outputs": [
    {
     "name": "stdout",
     "output_type": "stream",
     "text": [
      "Model: \"sequential_1\"\n",
      "_________________________________________________________________\n",
      "Layer (type)                 Output Shape              Param #   \n",
      "=================================================================\n",
      "dense_1 (Dense)              (None, 50)                39250     \n",
      "_________________________________________________________________\n",
      "dense_2 (Dense)              (None, 30)                1530      \n",
      "_________________________________________________________________\n",
      "dense_3 (Dense)              (None, 20)                620       \n",
      "_________________________________________________________________\n",
      "dense_4 (Dense)              (None, 10)                210       \n",
      "=================================================================\n",
      "Total params: 41,610\n",
      "Trainable params: 41,610\n",
      "Non-trainable params: 0\n",
      "_________________________________________________________________\n"
     ]
    }
   ],
   "source": [
    "#Starting a neural network\n",
    "modelo = Sequential()\n",
    "\n",
    "#Input the first layer in model with 50 neurals and the activation function will be Relu\n",
    "modelo.add(Dense(50 #number os neurals\n",
    "                ,activation = 'relu' #activation function\n",
    "                ,input_shape = (784,) #Number of features in dataframe, let's pay attention, because keras need to receive a tuple, its the reason of (784,0)\n",
    "                ,kernel_regularizer=l2(0.01), bias_regularizer=l2(0.01)\n",
    "                ))\n",
    "\n",
    "#Input the second layer in model with 50 neurals and the same activation function\n",
    "modelo.add(Dense(30 \n",
    "                ,activation = 'relu' \n",
    "                ,kernel_regularizer=l2(0.01), bias_regularizer=l2(0.01) \n",
    "                ))\n",
    "\n",
    "#Input the third layer in model with 20 neurals and the same activation function\n",
    "modelo.add(Dense(20\n",
    "                ,activation = 'relu' \n",
    "                ,kernel_regularizer=l2(0.01), bias_regularizer=l2(0.01) \n",
    "                ))\n",
    "\n",
    "#The final layes will be with 10 neurals because we have 10 class in this dataframe\n",
    "#The activation function is softmax because its will be normalize the output of neurals and it will be easier identify the probably of each class\n",
    "modelo.add(Dense(10 #numero de classs\n",
    "                ,activation = 'softmax' #Vai normaliza as probabilidades por exponencial\n",
    "                ))\n",
    "\n",
    "#Finally, lets see the summary of the model and see how many parameters its have.\n",
    "modelo.summary()"
   ]
  },
  {
   "cell_type": "code",
   "execution_count": 13,
   "metadata": {},
   "outputs": [],
   "source": [
    "#I use the croos entropy, because its penalty high error for bad clasification and a loss error for good erro, its a commum metric using in classification problems\n",
    "modelo.compile(\n",
    "                loss='categorical_crossentropy' \n",
    "               ,optimizer='adam' \n",
    "               ,metrics=['accuracy'] )"
   ]
  },
  {
   "cell_type": "code",
   "execution_count": 14,
   "metadata": {},
   "outputs": [
    {
     "name": "stdout",
     "output_type": "stream",
     "text": [
      "Train on 60000 samples, validate on 10000 samples\n",
      "Epoch 1/30\n",
      "60000/60000 [==============================] - 3s 44us/step - loss: 1.3631 - accuracy: 0.7281 - val_loss: 0.9621 - val_accuracy: 0.7965\n",
      "Epoch 2/30\n",
      "60000/60000 [==============================] - 2s 38us/step - loss: 0.8914 - accuracy: 0.8072 - val_loss: 0.8503 - val_accuracy: 0.8142\n",
      "Epoch 3/30\n",
      "60000/60000 [==============================] - 2s 38us/step - loss: 0.8275 - accuracy: 0.8164 - val_loss: 0.7946 - val_accuracy: 0.8229\n",
      "Epoch 4/30\n",
      "60000/60000 [==============================] - 2s 40us/step - loss: 0.7881 - accuracy: 0.8209 - val_loss: 0.7674 - val_accuracy: 0.8298\n",
      "Epoch 5/30\n",
      "60000/60000 [==============================] - 2s 39us/step - loss: 0.7601 - accuracy: 0.8250 - val_loss: 0.7547 - val_accuracy: 0.8259\n",
      "Epoch 6/30\n",
      "60000/60000 [==============================] - 2s 39us/step - loss: 0.7375 - accuracy: 0.8287 - val_loss: 0.7406 - val_accuracy: 0.8255\n",
      "Epoch 7/30\n",
      "60000/60000 [==============================] - 2s 38us/step - loss: 0.7214 - accuracy: 0.8295 - val_loss: 0.7645 - val_accuracy: 0.8063\n",
      "Epoch 8/30\n",
      "60000/60000 [==============================] - 2s 38us/step - loss: 0.7052 - accuracy: 0.8333 - val_loss: 0.6933 - val_accuracy: 0.8363\n",
      "Epoch 9/30\n",
      "60000/60000 [==============================] - 2s 38us/step - loss: 0.6958 - accuracy: 0.8342 - val_loss: 0.6906 - val_accuracy: 0.8413\n",
      "Epoch 10/30\n",
      "60000/60000 [==============================] - 2s 38us/step - loss: 0.6889 - accuracy: 0.8335 - val_loss: 0.6819 - val_accuracy: 0.8355\n",
      "Epoch 11/30\n",
      "60000/60000 [==============================] - 2s 38us/step - loss: 0.6760 - accuracy: 0.8362 - val_loss: 0.6914 - val_accuracy: 0.8297\n",
      "Epoch 12/30\n",
      "60000/60000 [==============================] - 2s 38us/step - loss: 0.6693 - accuracy: 0.8375 - val_loss: 0.6650 - val_accuracy: 0.8398\n",
      "Epoch 13/30\n",
      "60000/60000 [==============================] - 2s 38us/step - loss: 0.6565 - accuracy: 0.8405 - val_loss: 0.6528 - val_accuracy: 0.8430\n",
      "Epoch 14/30\n",
      "60000/60000 [==============================] - 2s 38us/step - loss: 0.6533 - accuracy: 0.8399 - val_loss: 0.6621 - val_accuracy: 0.8345\n",
      "Epoch 15/30\n",
      "60000/60000 [==============================] - 2s 38us/step - loss: 0.6488 - accuracy: 0.8401 - val_loss: 0.6773 - val_accuracy: 0.8288\n",
      "Epoch 16/30\n",
      "60000/60000 [==============================] - 2s 39us/step - loss: 0.6448 - accuracy: 0.8404 - val_loss: 0.6591 - val_accuracy: 0.8349\n",
      "Epoch 17/30\n",
      "60000/60000 [==============================] - 2s 38us/step - loss: 0.6336 - accuracy: 0.8426 - val_loss: 0.6285 - val_accuracy: 0.8468\n",
      "Epoch 18/30\n",
      "60000/60000 [==============================] - 2s 38us/step - loss: 0.6332 - accuracy: 0.8425 - val_loss: 0.6320 - val_accuracy: 0.8424\n",
      "Epoch 19/30\n",
      "60000/60000 [==============================] - 2s 39us/step - loss: 0.6283 - accuracy: 0.8430 - val_loss: 0.6396 - val_accuracy: 0.8393\n",
      "Epoch 20/30\n",
      "60000/60000 [==============================] - 2s 38us/step - loss: 0.6227 - accuracy: 0.8432 - val_loss: 0.6205 - val_accuracy: 0.8449\n",
      "Epoch 21/30\n",
      "60000/60000 [==============================] - 2s 38us/step - loss: 0.6230 - accuracy: 0.8424 - val_loss: 0.6268 - val_accuracy: 0.8413\n",
      "Epoch 22/30\n",
      "60000/60000 [==============================] - 2s 38us/step - loss: 0.6127 - accuracy: 0.8465 - val_loss: 0.6564 - val_accuracy: 0.8234\n",
      "Epoch 23/30\n",
      "60000/60000 [==============================] - 2s 38us/step - loss: 0.6100 - accuracy: 0.8469 - val_loss: 0.6152 - val_accuracy: 0.8398\n",
      "Epoch 24/30\n",
      "60000/60000 [==============================] - 2s 38us/step - loss: 0.6097 - accuracy: 0.8443 - val_loss: 0.6191 - val_accuracy: 0.8354\n",
      "Epoch 25/30\n",
      "60000/60000 [==============================] - 2s 39us/step - loss: 0.6058 - accuracy: 0.8456 - val_loss: 0.6398 - val_accuracy: 0.8317\n",
      "Epoch 26/30\n",
      "60000/60000 [==============================] - 2s 38us/step - loss: 0.6014 - accuracy: 0.8468 - val_loss: 0.6003 - val_accuracy: 0.8505\n",
      "Epoch 27/30\n",
      "60000/60000 [==============================] - 2s 38us/step - loss: 0.5977 - accuracy: 0.8477 - val_loss: 0.5829 - val_accuracy: 0.8550\n",
      "Epoch 28/30\n",
      "60000/60000 [==============================] - 2s 38us/step - loss: 0.5940 - accuracy: 0.8484 - val_loss: 0.6171 - val_accuracy: 0.8375\n",
      "Epoch 29/30\n",
      "60000/60000 [==============================] - 2s 38us/step - loss: 0.5921 - accuracy: 0.8475 - val_loss: 0.5890 - val_accuracy: 0.8486\n",
      "Epoch 30/30\n",
      "60000/60000 [==============================] - 2s 40us/step - loss: 0.5889 - accuracy: 0.8486 - val_loss: 0.5788 - val_accuracy: 0.8539\n"
     ]
    }
   ],
   "source": [
    "history = modelo.fit(x_train,y_train\n",
    "         ,epochs=30 #number of times that model will through in train \n",
    "         ,batch_size = 128 #number of rows that will be consider to update the weights of layers\n",
    "         ,verbose = 1\n",
    "         ,validation_data=(x_test,y_test)\n",
    "         )"
   ]
  },
  {
   "cell_type": "code",
   "execution_count": 15,
   "metadata": {},
   "outputs": [
    {
     "data": {
      "text/plain": [
       "[0.5787572590827942, 0.8539000153541565]"
      ]
     },
     "execution_count": 15,
     "metadata": {},
     "output_type": "execute_result"
    }
   ],
   "source": [
    "#Print loss and accuracy\n",
    "modelo.evaluate(x_test,y_test,verbose = 0)"
   ]
  },
  {
   "cell_type": "markdown",
   "execution_count": null,
   "metadata": {},
   "source": [
    "### PLotting the accuracy and loss during the increment of epochs"
   ]
  },
  {
   "cell_type": "code",
   "execution_count": 16,
   "metadata": {},
   "outputs": [
    {
     "data": {
      "image/png": "[encoded data removed]",
      "text/plain": [
       "<Figure size 936x576 with 1 Axes>"
      ]
     },
     "metadata": {
      "needs_background": "light"
     },
     "output_type": "display_data"
    }
   ],
   "source": [
    "plt.subplots(figsize=(13, 8))\n",
    "plt.plot(history.history['accuracy'])\n",
    "plt.plot(history.history['val_accuracy'])\n",
    "plt.title('Model accuracy')\n",
    "plt.ylabel('Accuracy')\n",
    "plt.xlabel('Epoch')\n",
    "plt.legend(['Train', 'Test'], loc='upper left')\n",
    "plt.show()"
   ]
  },
  {
   "cell_type": "code",
   "execution_count": 17,
   "metadata": {},
   "outputs": [
    {
     "data": {
      "image/png": "[encoded data removed]",
      "text/plain": [
       "<Figure size 936x576 with 1 Axes>"
      ]
     },
     "metadata": {
      "needs_background": "light"
     },
     "output_type": "display_data"
    }
   ],
   "source": [
    "plt.subplots(figsize=(13, 8))\n",
    "plt.plot(history.history['loss'])\n",
    "plt.plot(history.history['val_loss'])\n",
    "plt.title('Model loss')\n",
    "plt.ylabel('loss')\n",
    "plt.xlabel('Epoch')\n",
    "plt.legend(['Train', 'Test'], loc='upper left')\n",
    "plt.show()"
   ]
  },
  {
   "cell_type": "markdown",
   "execution_count": null,
   "metadata": {},
   "source": [
    "### Classification report of each class"
   ]
  },
  {
   "cell_type": "code",
   "execution_count": 18,
   "metadata": {},
   "outputs": [
    {
     "name": "stdout",
     "output_type": "stream",
     "text": [
      "ACC: 80.380%\n",
      "---------\n",
      "              precision    recall  f1-score   support\n",
      "\n",
      "           0       0.81      0.78      0.79      1000\n",
      "           1       0.99      0.96      0.97      1000\n",
      "           2       0.84      0.66      0.74      1000\n",
      "           3       0.91      0.82      0.86      1000\n",
      "           4       0.86      0.64      0.73      1000\n",
      "           5       0.94      0.91      0.92      1000\n",
      "           6       0.74      0.51      0.60      1000\n",
      "           7       0.91      0.90      0.91      1000\n",
      "           8       0.96      0.94      0.95      1000\n",
      "           9       0.94      0.92      0.93      1000\n",
      "\n",
      "   micro avg       0.89      0.80      0.85     10000\n",
      "   macro avg       0.89      0.80      0.84     10000\n",
      "weighted avg       0.89      0.80      0.84     10000\n",
      " samples avg       0.80      0.80      0.80     10000\n",
      "\n"
     ]
    },
    {
     "name": "stderr",
     "output_type": "stream",
     "text": [
      "/opt/conda/lib/python3.7/site-packages/sklearn/metrics/_classification.py:1272: UndefinedMetricWarning: Precision and F-score are ill-defined and being set to 0.0 in samples with no predicted labels. Use `zero_division` parameter to control this behavior.\n",
      "  _warn_prf(average, modifier, msg_start, len(result))\n"
     ]
    }
   ],
   "source": [
    "#Predict the x_test\n",
    "p = modelo.predict(x_test)\n",
    "p = (p > 0.5)\n",
    "print('ACC: %.3f%%' % (accuracy_score(y_test, p)*100))\n",
    "print('---------')\n",
    "print(classification_report(y_test, p))"
   ]
  },
  {
   "cell_type": "markdown",
   "execution_count": null,
   "metadata": {},
   "source": [
    "# Try to do the same model in Scikit-learn"
   ]
  },
  {
   "cell_type": "code",
   "execution_count": 19,
   "metadata": {},
   "outputs": [
    {
     "name": "stdout",
     "output_type": "stream",
     "text": [
      "Iteration 1, loss = 1.16751323\n",
      "Iteration 2, loss = 0.73055040\n",
      "Iteration 3, loss = 0.66297888\n",
      "Iteration 4, loss = 0.62398755\n",
      "Iteration 5, loss = 0.59599158\n",
      "Iteration 6, loss = 0.57648485\n",
      "Iteration 7, loss = 0.55670148\n",
      "Iteration 8, loss = 0.53980763\n",
      "Iteration 9, loss = 0.52693651\n",
      "Iteration 10, loss = 0.51314798\n",
      "Iteration 11, loss = 0.50228346\n",
      "Iteration 12, loss = 0.49314415\n",
      "Iteration 13, loss = 0.48015815\n",
      "Iteration 14, loss = 0.47619853\n",
      "Iteration 15, loss = 0.46789987\n",
      "Iteration 16, loss = 0.46192088\n",
      "Iteration 17, loss = 0.45247878\n",
      "Iteration 18, loss = 0.44406509\n",
      "Iteration 19, loss = 0.43771446\n",
      "Iteration 20, loss = 0.43211326\n",
      "Iteration 21, loss = 0.42776855\n",
      "Iteration 22, loss = 0.41946926\n",
      "Iteration 23, loss = 0.41856413\n",
      "Iteration 24, loss = 0.41319356\n",
      "Iteration 25, loss = 0.40686743\n",
      "Iteration 26, loss = 0.40019588\n",
      "Iteration 27, loss = 0.39966402\n",
      "Iteration 28, loss = 0.39747053\n",
      "Iteration 29, loss = 0.39105230\n",
      "Iteration 30, loss = 0.38643915\n"
     ]
    },
    {
     "name": "stderr",
     "output_type": "stream",
     "text": [
      "/opt/conda/lib/python3.7/site-packages/sklearn/neural_network/_multilayer_perceptron.py:571: ConvergenceWarning: Stochastic Optimizer: Maximum iterations (30) reached and the optimization hasn't converged yet.\n",
      "  % self.max_iter, ConvergenceWarning)\n"
     ]
    },
    {
     "data": {
      "text/plain": [
       "MLPClassifier(activation='relu', alpha=0.0001, batch_size=32, beta_1=0.9,\n",
       "              beta_2=0.999, early_stopping=False, epsilon=1e-08,\n",
       "              hidden_layer_sizes=(50, 30, 20), learning_rate='constant',\n",
       "              learning_rate_init=0.001, max_fun=15000, max_iter=30,\n",
       "              momentum=0.9, n_iter_no_change=10, nesterovs_momentum=True,\n",
       "              power_t=0.5, random_state=42, shuffle=True, solver='adam',\n",
       "              tol=0.0001, validation_fraction=0.1, verbose=1, warm_start=False)"
      ]
     },
     "execution_count": 19,
     "metadata": {},
     "output_type": "execute_result"
    }
   ],
   "source": [
    "from sklearn.neural_network import MLPClassifier\n",
    "model = MLPClassifier(hidden_layer_sizes=(50,30,20) #define 3 layers with 50, 30 and 20 neurals\n",
    "                      , batch_size=32 #Define the same bacth_size\n",
    "                      , solver = 'adam' #Define the optimization\n",
    "                      ,activation='relu' #Activation function\n",
    "                      , max_iter=30 #Number of epochs\n",
    "                      ,verbose=1\n",
    "                      , random_state=42)\n",
    "\n",
    "model.fit(x_train, y_train)"
   ]
  },
  {
   "cell_type": "code",
   "execution_count": 20,
   "metadata": {},
   "outputs": [
    {
     "name": "stdout",
     "output_type": "stream",
     "text": [
      "Accuracy: 0.8652\n"
     ]
    }
   ],
   "source": [
    "#Print the accuracy\n",
    "print('Accuracy:', model.score(x_test, y_test))"
   ]
  },
  {
   "cell_type": "markdown",
   "execution_count": null,
   "metadata": {},
   "source": [
    "### PLotting the loss during the increment of epochs"
   ]
  },
  {
   "cell_type": "code",
   "execution_count": 21,
   "metadata": {},
   "outputs": [
    {
     "data": {
      "text/plain": [
       "[<matplotlib.lines.Line2D at 0x7f4a5c1ebe10>]"
      ]
     },
     "execution_count": 21,
     "metadata": {},
     "output_type": "execute_result"
    },
    {
     "data": {
      "image/png": "[encoded data removed]",
      "text/plain": [
       "<Figure size 720x720 with 1 Axes>"
      ]
     },
     "metadata": {
      "needs_background": "light"
     },
     "output_type": "display_data"
    }
   ],
   "source": [
    "plt.rcParams['figure.figsize'] = 10, 10\n",
    "\n",
    "plt.plot(list(range(len(model.loss_curve_))), model.loss_curve_)"
   ]
  },
  {
   "cell_type": "code",
   "execution_count": 22,
   "metadata": {},
   "outputs": [
    {
     "name": "stdout",
     "output_type": "stream",
     "text": [
      "ACC: 86.520%\n",
      "---------\n",
      "              precision    recall  f1-score   support\n",
      "\n",
      "           0       0.83      0.81      0.82      1000\n",
      "           1       0.98      0.98      0.98      1000\n",
      "           2       0.86      0.79      0.83      1000\n",
      "           3       0.94      0.86      0.90      1000\n",
      "           4       0.88      0.77      0.82      1000\n",
      "           5       0.98      0.92      0.95      1000\n",
      "           6       0.69      0.73      0.71      1000\n",
      "           7       0.94      0.92      0.93      1000\n",
      "           8       0.97      0.96      0.97      1000\n",
      "           9       0.91      0.97      0.94      1000\n",
      "\n",
      "   micro avg       0.90      0.87      0.88     10000\n",
      "   macro avg       0.90      0.87      0.88     10000\n",
      "weighted avg       0.90      0.87      0.88     10000\n",
      " samples avg       0.87      0.87      0.87     10000\n",
      "\n"
     ]
    },
    {
     "name": "stderr",
     "output_type": "stream",
     "text": [
      "/opt/conda/lib/python3.7/site-packages/sklearn/metrics/_classification.py:1272: UndefinedMetricWarning: Precision and F-score are ill-defined and being set to 0.0 in samples with no predicted labels. Use `zero_division` parameter to control this behavior.\n",
      "  _warn_prf(average, modifier, msg_start, len(result))\n"
     ]
    }
   ],
   "source": [
    "#Predict the x_test\n",
    "p = model.predict(x_test)\n",
    "p = (p > 0.5)\n",
    "print('ACC: %.3f%%' % (accuracy_score(y_test, p)*100))\n",
    "print('---------')\n",
    "print(classification_report(y_test, p))"
   ]
  }
 ],
 "metadata": {
  "kernelspec": {
   "display_name": "Python 3",
   "language": "python",
   "name": "python3"
  },
  "language_info": {
   "codemirror_mode": {
    "name": "ipython",
    "version": 3
   },
   "file_extension": ".py",
   "mimetype": "text/x-python",
   "name": "python",
   "nbconvert_exporter": "python",
   "pygments_lexer": "ipython3",
   "version": "3.7.6"
  }
 },
 "nbformat": 4,
 "nbformat_minor": 4
}
